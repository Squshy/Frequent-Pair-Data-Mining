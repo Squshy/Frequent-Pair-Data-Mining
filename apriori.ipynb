{
 "metadata": {
  "language_info": {
   "codemirror_mode": {
    "name": "ipython",
    "version": 3
   },
   "file_extension": ".py",
   "mimetype": "text/x-python",
   "name": "python",
   "nbconvert_exporter": "python",
   "pygments_lexer": "ipython3",
   "version": "3.7.0-final"
  },
  "orig_nbformat": 2,
  "kernelspec": {
   "name": "python3",
   "display_name": "Python 3.7.0 64-bit (conda)",
   "metadata": {
    "interpreter": {
     "hash": "cbb7e187236b00b7ded093dcc56893c8d346ec4edb708f0afe40db7bb88b5c34"
    }
   }
  }
 },
 "nbformat": 4,
 "nbformat_minor": 2,
 "cells": [
  {
   "cell_type": "code",
   "execution_count": 1,
   "metadata": {},
   "outputs": [],
   "source": [
    "from apriori import GetDataItems, CreateCK, DetermineFrequentItems, Apriori\n",
    "from helper import GetItemsetFromFile, SaveDataToFile, CreateSupportList, SaveDataFrameToHTMLFile\n",
    "from time import time\n",
    "import pandas as pd\n",
    "import numpy as np"
   ]
  },
  {
   "cell_type": "code",
   "execution_count": 2,
   "metadata": {},
   "outputs": [],
   "source": [
    "baskets_data = [\n",
    "  ['bear', 'apple'],\n",
    "  ['bear', 'orange', 'onion'],\n",
    "  ['apple', 'orange', 'onion'],\n",
    "  ['bear', 'apple', 'orange', 'onion'],\n",
    "  ['bear', 'apple', 'orange'],\n",
    "  ['apple', 'orange'],\n",
    "  ['orange'],\n",
    "  ['bear', 'apple', 'onion', 'orange'],\n",
    "  ['apple', 'orange', 'onion'],\n",
    "  ['bear', 'apple', 'orange', 'onion'],\n",
    "]"
   ]
  },
  {
   "cell_type": "code",
   "execution_count": 3,
   "metadata": {},
   "outputs": [
    {
     "output_type": "stream",
     "name": "stdout",
     "text": [
      "Getting unique items in baskets...\nChecking line 0 in first pass\nDetermining Frequent Items...\nCreating Ck...\nDetermining Frequent Items...\n"
     ]
    }
   ],
   "source": [
    "min_support = 0.5\n",
    "k = 2\n",
    "data, supp = Apriori(baskets_data, k, min_support)\n",
    "SaveDataToFile(data, supp, \"apri_test.out\")\n",
    "xd = CreateSupportList(data, supp)\n",
    "if k == 2:\n",
    "    df = pd.DataFrame(xd, columns=['Item 1', 'Item 2', 'Support'])\n",
    "    SaveDataFrameToHTMLFile(df, \"apri_2_sup5\")\n",
    "else: \n",
    "    df = pd.DataFrame(xd, columns=['Item 1', 'Item 2', 'Item 3', 'Support'])\n"
   ]
  },
  {
   "cell_type": "code",
   "execution_count": 7,
   "metadata": {},
   "outputs": [
    {
     "output_type": "execute_result",
     "data": {
      "text/plain": [
       "   Item 1 Item 2  Support\n",
       "0  orange  apple      0.7\n",
       "1   apple  onion      0.5\n",
       "2  orange   bear      0.5\n",
       "3  orange  onion      0.6\n",
       "4    bear  apple      0.5"
      ],
      "text/html": "<div>\n<style scoped>\n    .dataframe tbody tr th:only-of-type {\n        vertical-align: middle;\n    }\n\n    .dataframe tbody tr th {\n        vertical-align: top;\n    }\n\n    .dataframe thead th {\n        text-align: right;\n    }\n</style>\n<table border=\"1\" class=\"dataframe\">\n  <thead>\n    <tr style=\"text-align: right;\">\n      <th></th>\n      <th>Item 1</th>\n      <th>Item 2</th>\n      <th>Support</th>\n    </tr>\n  </thead>\n  <tbody>\n    <tr>\n      <th>0</th>\n      <td>orange</td>\n      <td>apple</td>\n      <td>0.7</td>\n    </tr>\n    <tr>\n      <th>1</th>\n      <td>apple</td>\n      <td>onion</td>\n      <td>0.5</td>\n    </tr>\n    <tr>\n      <th>2</th>\n      <td>orange</td>\n      <td>bear</td>\n      <td>0.5</td>\n    </tr>\n    <tr>\n      <th>3</th>\n      <td>orange</td>\n      <td>onion</td>\n      <td>0.6</td>\n    </tr>\n    <tr>\n      <th>4</th>\n      <td>bear</td>\n      <td>apple</td>\n      <td>0.5</td>\n    </tr>\n  </tbody>\n</table>\n</div>"
     },
     "metadata": {},
     "execution_count": 7
    }
   ],
   "source": [
    "df"
   ]
  },
  {
   "cell_type": "code",
   "execution_count": null,
   "metadata": {},
   "outputs": [],
   "source": []
  },
  {
   "cell_type": "code",
   "execution_count": null,
   "metadata": {},
   "outputs": [],
   "source": []
  }
 ]
}