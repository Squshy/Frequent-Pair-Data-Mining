{
 "metadata": {
  "language_info": {
   "codemirror_mode": {
    "name": "ipython",
    "version": 3
   },
   "file_extension": ".py",
   "mimetype": "text/x-python",
   "name": "python",
   "nbconvert_exporter": "python",
   "pygments_lexer": "ipython3",
   "version": "3.7.0-final"
  },
  "orig_nbformat": 2,
  "kernelspec": {
   "name": "python3",
   "display_name": "Python 3.7.0 64-bit (conda)",
   "metadata": {
    "interpreter": {
     "hash": "cbb7e187236b00b7ded093dcc56893c8d346ec4edb708f0afe40db7bb88b5c34"
    }
   }
  }
 },
 "nbformat": 4,
 "nbformat_minor": 2,
 "cells": [
  {
   "cell_type": "code",
   "execution_count": 1,
   "metadata": {},
   "outputs": [],
   "source": [
    "from apriori import Apriori\n",
    "from helper import GetItemsetFromFile, PrintTimeInfo, SaveDataFrameToHTMLFile, SaveDataFrameToHTMLFile, CreateTripleDataFrame, GetSubsectionOfData, CreatePairDataFrame\n",
    "from time import time\n",
    "import pandas as pd\n",
    "import numpy as np"
   ]
  },
  {
   "cell_type": "code",
   "execution_count": 2,
   "metadata": {
    "tags": []
   },
   "outputs": [
    {
     "output_type": "stream",
     "name": "stdout",
     "text": [
      "Time taken to read retail data: 0.21 seconds\n"
     ]
    }
   ],
   "source": [
    "s_t = time()\n",
    "retail_data = GetItemsetFromFile(\"retail.data\")\n",
    "f_t = time()\n",
    "print(\"Time taken to read retail data: %.2f seconds\" % (f_t - s_t))"
   ]
  },
  {
   "cell_type": "code",
   "execution_count": 3,
   "metadata": {},
   "outputs": [],
   "source": [
    "support_values = [0.01, 0.02, 0.05]\n",
    "split_data_values = [0.2, 0.4, 1]"
   ]
  },
  {
   "cell_type": "code",
   "execution_count": 4,
   "metadata": {},
   "outputs": [
    {
     "output_type": "stream",
     "name": "stdout",
     "text": [
      "Time taken to complete Apriori on 20% of data using pairs of retail data: 2.71 seconds with support: 1%\n",
      "Time taken to complete Apriori on 20% of data using pairs of retail data: 1.48 seconds with support: 2%\n",
      "Time taken to complete Apriori on 20% of data using pairs of retail data: 1.01 seconds with support: 5%\n",
      "Done running Apriori pairs on 20% of data\n",
      "\n",
      "Time taken to complete Apriori on 40% of data using pairs of retail data: 5.42 seconds with support: 1%\n",
      "Time taken to complete Apriori on 40% of data using pairs of retail data: 2.75 seconds with support: 2%\n",
      "Time taken to complete Apriori on 40% of data using pairs of retail data: 1.82 seconds with support: 5%\n",
      "Done running Apriori pairs on 40% of data\n",
      "\n",
      "Time taken to complete Apriori on 100% of data using pairs of retail data: 12.71 seconds with support: 1%\n",
      "Time taken to complete Apriori on 100% of data using pairs of retail data: 6.68 seconds with support: 2%\n",
      "Time taken to complete Apriori on 100% of data using pairs of retail data: 4.44 seconds with support: 5%\n",
      "Done running Apriori pairs on 100% of data\n",
      "\n"
     ]
    }
   ],
   "source": [
    "# Perfom Apriori on pairs of data for all support values and split data values\n",
    "for data_split in split_data_values:\n",
    "    for support in support_values:\n",
    "        data = GetSubsectionOfData(retail_data, data_split) # Get % of data\n",
    "        file_name = \"apri-ret-p-\"+str(round(data_split*100))+\"-\" + str(round(support*100))   # Set file name\n",
    "\n",
    "        s_t = time()    # Start Time\n",
    "        occ, freq = Apriori(data, support, 2)\n",
    "        f_t = time()    # End Time\n",
    "        PrintTimeInfo(\"Apriori\", (data_split * 100), (f_t - s_t), support, \"pairs\")\n",
    "        df = CreatePairDataFrame(occ, freq, len(data))\n",
    "        SaveDataFrameToHTMLFile(df, file_name)\n",
    "    print(\"Done running Apriori pairs on %d%% of data\" % (data_split * 100)+\"\\n\")"
   ]
  },
  {
   "cell_type": "code",
   "execution_count": 5,
   "metadata": {},
   "outputs": [
    {
     "output_type": "error",
     "ename": "TypeError",
     "evalue": "PrintTimeInfo() missing 1 required positional argument: 'word'",
     "traceback": [
      "\u001b[1;31m---------------------------------------------------------------------------\u001b[0m",
      "\u001b[1;31mTypeError\u001b[0m                                 Traceback (most recent call last)",
      "\u001b[1;32m<ipython-input-5-2e385aba8ab0>\u001b[0m in \u001b[0;36m<module>\u001b[1;34m()\u001b[0m\n\u001b[0;32m      8\u001b[0m         \u001b[0mfreq\u001b[0m \u001b[1;33m=\u001b[0m \u001b[0mApriori\u001b[0m\u001b[1;33m(\u001b[0m\u001b[0mdata\u001b[0m\u001b[1;33m,\u001b[0m \u001b[0msupport\u001b[0m\u001b[1;33m,\u001b[0m \u001b[1;36m3\u001b[0m\u001b[1;33m)\u001b[0m\u001b[1;33m\u001b[0m\u001b[0m\n\u001b[0;32m      9\u001b[0m         \u001b[0mf_t\u001b[0m \u001b[1;33m=\u001b[0m \u001b[0mtime\u001b[0m\u001b[1;33m(\u001b[0m\u001b[1;33m)\u001b[0m    \u001b[1;31m# End Time\u001b[0m\u001b[1;33m\u001b[0m\u001b[0m\n\u001b[1;32m---> 10\u001b[1;33m         \u001b[0mPrintTimeInfo\u001b[0m\u001b[1;33m(\u001b[0m\u001b[1;33m(\u001b[0m\u001b[0mdata_split\u001b[0m \u001b[1;33m*\u001b[0m \u001b[1;36m100\u001b[0m\u001b[1;33m)\u001b[0m\u001b[1;33m,\u001b[0m \u001b[1;33m(\u001b[0m\u001b[0mf_t\u001b[0m \u001b[1;33m-\u001b[0m \u001b[0ms_t\u001b[0m\u001b[1;33m)\u001b[0m\u001b[1;33m,\u001b[0m \u001b[0msupport\u001b[0m\u001b[1;33m,\u001b[0m \u001b[1;34m\"triples\"\u001b[0m\u001b[1;33m)\u001b[0m\u001b[1;33m\u001b[0m\u001b[0m\n\u001b[0m\u001b[0;32m     11\u001b[0m         \u001b[0mdf\u001b[0m \u001b[1;33m=\u001b[0m \u001b[0mCreateTripleDataFrame\u001b[0m\u001b[1;33m(\u001b[0m\u001b[0mfreq\u001b[0m\u001b[1;33m)\u001b[0m\u001b[1;33m\u001b[0m\u001b[0m\n\u001b[0;32m     12\u001b[0m         \u001b[0mSaveDataFrameToHTMLFile\u001b[0m\u001b[1;33m(\u001b[0m\u001b[0mdf\u001b[0m\u001b[1;33m,\u001b[0m \u001b[0mfile_name\u001b[0m\u001b[1;33m)\u001b[0m\u001b[1;33m\u001b[0m\u001b[0m\n",
      "\u001b[1;31mTypeError\u001b[0m: PrintTimeInfo() missing 1 required positional argument: 'word'"
     ]
    }
   ],
   "source": [
    "# Perfom Apriori on triples of data for all support values and split data values\n",
    "for data_split in split_data_values:\n",
    "    for support in support_values:\n",
    "        data = GetSubsectionOfData(retail_data, data_split) # Get % of data\n",
    "        file_name = \"apri-ret-p-\"+str(round(data_split*100))+\"-\" + str(round(support*100))   # Set file name\n",
    "\n",
    "        s_t = time()    # Start Time\n",
    "        freq = Apriori(data, support, 3)\n",
    "        f_t = time()    # End Time\n",
    "        PrintTimeInfo(\"Apriori\", (data_split * 100), (f_t - s_t), support, \"triples\")\n",
    "        df = CreateTripleDataFrame(freq)\n",
    "        SaveDataFrameToHTMLFile(df, file_name)\n",
    "    print(\"Done running Apriori triples on %d%% of data\" % (data_split * 100)+\"\\n\")"
   ]
  },
  {
   "cell_type": "code",
   "execution_count": null,
   "metadata": {},
   "outputs": [],
   "source": []
  }
 ]
}