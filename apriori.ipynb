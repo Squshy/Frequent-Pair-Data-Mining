{
 "metadata": {
  "language_info": {
   "codemirror_mode": {
    "name": "ipython",
    "version": 3
   },
   "file_extension": ".py",
   "mimetype": "text/x-python",
   "name": "python",
   "nbconvert_exporter": "python",
   "pygments_lexer": "ipython3",
   "version": "3.7.0-final"
  },
  "orig_nbformat": 2,
  "kernelspec": {
   "name": "python3",
   "display_name": "Python 3.7.0 64-bit (conda)",
   "metadata": {
    "interpreter": {
     "hash": "cbb7e187236b00b7ded093dcc56893c8d346ec4edb708f0afe40db7bb88b5c34"
    }
   }
  }
 },
 "nbformat": 4,
 "nbformat_minor": 2,
 "cells": [
  {
   "cell_type": "code",
   "execution_count": 1,
   "metadata": {},
   "outputs": [],
   "source": [
    "\n",
    "from new_apri import PassOne, PassTwo, CreateCandidates, Apriori\n",
    "from helper import GetItemsetFromFile, SaveDataToFile, CreateSupportList, SaveDataFrameToHTMLFile\n",
    "from time import time\n",
    "import pandas as pd\n",
    "import numpy as np"
   ]
  },
  {
   "cell_type": "code",
   "execution_count": 2,
   "metadata": {},
   "outputs": [],
   "source": [
    "baskets_data = [\n",
    "  ['bear', 'apple'],\n",
    "  ['bear', 'orange', 'onion'],\n",
    "  ['apple', 'orange', 'onion'],\n",
    "  ['bear', 'apple', 'orange'],\n",
    "  ['bear', 'apple', 'orange'],\n",
    "  ['apple', 'orange'],\n",
    "  ['orange'],\n",
    "  ['bear', 'apple', 'orange'],\n",
    "  ['bear', 'orange', 'onion'],\n",
    "  ['bear', 'orange', 'onion'],\n",
    "  ['bear', 'orange', 'onion'],\n",
    "  ['bear', 'orange', 'onion'],\n",
    "  ['bear', 'orange', 'onion'],\n",
    "  ['bear', 'orange', 'onion'],\n",
    "]"
   ]
  },
  {
   "cell_type": "code",
   "execution_count": 3,
   "metadata": {},
   "outputs": [
    {
     "output_type": "stream",
     "name": "stdout",
     "text": [
      "Running Apriori looking for pairs with support of 50%\nFrequent Items: [('bear', 'orange'), ('bear', 'onion'), ('onion', 'orange')]\n\n\nRunning Apriori looking for triples with support of 50%\nJoined list: [['orange', 'onion', 'bear']]\nCandidates: ['orange', 'onion', 'bear']\nFrequent Items: [['orange', 'onion', 'bear']]\n\n\n"
     ]
    }
   ],
   "source": [
    "print(\"Running Apriori looking for pairs with support of 50%\")\n",
    "freq = Apriori(baskets_data, 0.5, 2)\n",
    "print(\"Frequent Items: \" + str(freq) + \"\\n\\n\")\n",
    "\n",
    "print(\"Running Apriori looking for triples with support of 50%\")\n",
    "freq = Apriori(baskets_data, 0.5, 3)\n",
    "print(\"Frequent Items: \" + str(freq) + \"\\n\\n\")\n",
    "#print(freq)\n",
    "#cand = CreateCandidates(freq, 2)\n"
   ]
  },
  {
   "cell_type": "code",
   "execution_count": 4,
   "metadata": {},
   "outputs": [
    {
     "output_type": "error",
     "ename": "ValueError",
     "evalue": "not enough values to unpack (expected 2, got 0)",
     "traceback": [
      "\u001b[1;31m---------------------------------------------------------------------------\u001b[0m",
      "\u001b[1;31mValueError\u001b[0m                                Traceback (most recent call last)",
      "\u001b[1;32m<ipython-input-4-27454d6a5fd4>\u001b[0m in \u001b[0;36m<module>\u001b[1;34m()\u001b[0m\n\u001b[0;32m      1\u001b[0m \u001b[0mmin_support\u001b[0m \u001b[1;33m=\u001b[0m \u001b[1;36m0.5\u001b[0m\u001b[1;33m\u001b[0m\u001b[0m\n\u001b[0;32m      2\u001b[0m \u001b[0mk\u001b[0m \u001b[1;33m=\u001b[0m \u001b[1;36m2\u001b[0m\u001b[1;33m\u001b[0m\u001b[0m\n\u001b[1;32m----> 3\u001b[1;33m \u001b[0mdata\u001b[0m\u001b[1;33m,\u001b[0m \u001b[0msupp\u001b[0m \u001b[1;33m=\u001b[0m \u001b[0mApriori\u001b[0m\u001b[1;33m(\u001b[0m\u001b[0mbaskets_data\u001b[0m\u001b[1;33m,\u001b[0m \u001b[0mk\u001b[0m\u001b[1;33m,\u001b[0m \u001b[0mmin_support\u001b[0m\u001b[1;33m)\u001b[0m\u001b[1;33m\u001b[0m\u001b[0m\n\u001b[0m\u001b[0;32m      4\u001b[0m \u001b[0mSaveDataToFile\u001b[0m\u001b[1;33m(\u001b[0m\u001b[0mdata\u001b[0m\u001b[1;33m,\u001b[0m \u001b[0msupp\u001b[0m\u001b[1;33m,\u001b[0m \u001b[1;34m\"apri_test.out\"\u001b[0m\u001b[1;33m)\u001b[0m\u001b[1;33m\u001b[0m\u001b[0m\n\u001b[0;32m      5\u001b[0m \u001b[0mxd\u001b[0m \u001b[1;33m=\u001b[0m \u001b[0mCreateSupportList\u001b[0m\u001b[1;33m(\u001b[0m\u001b[0mdata\u001b[0m\u001b[1;33m,\u001b[0m \u001b[0msupp\u001b[0m\u001b[1;33m)\u001b[0m\u001b[1;33m\u001b[0m\u001b[0m\n",
      "\u001b[1;31mValueError\u001b[0m: not enough values to unpack (expected 2, got 0)"
     ]
    }
   ],
   "source": [
    "\"\"\"\n",
    "min_support = 0.5\n",
    "k = 2\n",
    "data, supp = Apriori(baskets_data, k, min_support)\n",
    "SaveDataToFile(data, supp, \"apri_test.out\")\n",
    "xd = CreateSupportList(data, supp)\n",
    "if k == 2:\n",
    "    df = pd.DataFrame(xd, columns=['Item 1', 'Item 2', 'Support'])\n",
    "    SaveDataFrameToHTMLFile(df, \"apri_2_sup5\")\n",
    "else: \n",
    "    df = pd.DataFrame(xd, columns=['Item 1', 'Item 2', 'Item 3', 'Support'])\n",
    "\"\"\""
   ]
  },
  {
   "cell_type": "code",
   "execution_count": null,
   "metadata": {},
   "outputs": [],
   "source": []
  },
  {
   "cell_type": "code",
   "execution_count": 6,
   "metadata": {},
   "outputs": [
    {
     "output_type": "execute_result",
     "data": {
      "text/plain": [
       "   Item 1 Item 2  Support\n",
       "0  orange  apple      0.7\n",
       "1   onion  apple      0.5\n",
       "2  orange   bear      0.5\n",
       "3  orange  onion      0.6\n",
       "4    bear  apple      0.5"
      ],
      "text/html": "<div>\n<style scoped>\n    .dataframe tbody tr th:only-of-type {\n        vertical-align: middle;\n    }\n\n    .dataframe tbody tr th {\n        vertical-align: top;\n    }\n\n    .dataframe thead th {\n        text-align: right;\n    }\n</style>\n<table border=\"1\" class=\"dataframe\">\n  <thead>\n    <tr style=\"text-align: right;\">\n      <th></th>\n      <th>Item 1</th>\n      <th>Item 2</th>\n      <th>Support</th>\n    </tr>\n  </thead>\n  <tbody>\n    <tr>\n      <th>0</th>\n      <td>orange</td>\n      <td>apple</td>\n      <td>0.7</td>\n    </tr>\n    <tr>\n      <th>1</th>\n      <td>onion</td>\n      <td>apple</td>\n      <td>0.5</td>\n    </tr>\n    <tr>\n      <th>2</th>\n      <td>orange</td>\n      <td>bear</td>\n      <td>0.5</td>\n    </tr>\n    <tr>\n      <th>3</th>\n      <td>orange</td>\n      <td>onion</td>\n      <td>0.6</td>\n    </tr>\n    <tr>\n      <th>4</th>\n      <td>bear</td>\n      <td>apple</td>\n      <td>0.5</td>\n    </tr>\n  </tbody>\n</table>\n</div>"
     },
     "metadata": {},
     "execution_count": 6
    }
   ],
   "source": []
  },
  {
   "cell_type": "code",
   "execution_count": null,
   "metadata": {},
   "outputs": [],
   "source": []
  },
  {
   "cell_type": "code",
   "execution_count": null,
   "metadata": {},
   "outputs": [],
   "source": []
  }
 ]
}