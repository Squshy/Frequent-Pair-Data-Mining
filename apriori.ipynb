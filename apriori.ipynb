{
 "metadata": {
  "language_info": {
   "codemirror_mode": {
    "name": "ipython",
    "version": 3
   },
   "file_extension": ".py",
   "mimetype": "text/x-python",
   "name": "python",
   "nbconvert_exporter": "python",
   "pygments_lexer": "ipython3",
   "version": "3.7.0-final"
  },
  "orig_nbformat": 2,
  "kernelspec": {
   "name": "python3",
   "display_name": "Python 3.7.0 64-bit (conda)",
   "metadata": {
    "interpreter": {
     "hash": "cbb7e187236b00b7ded093dcc56893c8d346ec4edb708f0afe40db7bb88b5c34"
    }
   }
  }
 },
 "nbformat": 4,
 "nbformat_minor": 2,
 "cells": [
  {
   "cell_type": "code",
   "execution_count": 1,
   "metadata": {},
   "outputs": [],
   "source": [
    "\n",
    "from new_apri import PassOne, PassTwo, CreateCandidates, Apriori\n",
    "from helper import GetItemsetFromFile, SaveDataToFile, CreateSupportList, SaveDataFrameToHTMLFile\n",
    "from time import time\n",
    "import pandas as pd\n",
    "import numpy as np"
   ]
  },
  {
   "cell_type": "code",
   "execution_count": 2,
   "metadata": {},
   "outputs": [],
   "source": [
    "baskets_data = [\n",
    "  ['bear', 'apple'],\n",
    "  ['bear', 'orange', 'onion'],\n",
    "  ['apple', 'orange', 'onion'],\n",
    "  ['bear', 'apple', 'orange'],\n",
    "  ['bear', 'apple', 'orange'],\n",
    "  ['apple', 'orange'],\n",
    "  ['orange'],\n",
    "  ['chicken', 'nugget', 'apple', 'orange'],\n",
    "  ['chicken', 'nugget', 'apple', 'orange'],\n",
    "  ['chicken', 'nugget', 'apple', 'orange'],\n",
    "  ['chicken', 'nugget', 'apple', 'orange'],\n",
    "  ['chicken', 'nugget', 'apple', 'orange'],\n",
    "  ['chicken', 'nugget', 'apple', 'orange'],\n",
    "  ['chicken', 'nugget', 'apple', 'orange'],\n",
    "]"
   ]
  },
  {
   "cell_type": "code",
   "execution_count": 3,
   "metadata": {},
   "outputs": [
    {
     "output_type": "stream",
     "name": "stdout",
     "text": [
      "Running Apriori looking for pairs with support of 50%\nFrequent Items: [('apple', 'orange'), ('chicken', 'nugget'), ('apple', 'chicken'), ('chicken', 'orange'), ('apple', 'nugget'), ('nugget', 'orange')]\nOccurences Items: [11, 7, 7, 7, 7, 7]\n\n\nRunning Apriori looking for triples with support of 50%\n"
     ]
    }
   ],
   "source": [
    "print(\"Running Apriori looking for pairs with support of 50%\")\n",
    "occ2, freq2 = Apriori(baskets_data, 0.5, 2)\n",
    "print(\"Frequent Items: \" + str(freq2))\n",
    "print(\"Occurences Items: \" + str(occ2) + \"\\n\\n\")\n",
    "\n",
    "print(\"Running Apriori looking for triples with support of 50%\")\n",
    "freq = Apriori(baskets_data, 0.5, 3)\n",
    "print(\"Frequent Items: \" + str(freq) + \"\\n\\n\")\n",
    "#print(freq)\n",
    "#cand = CreateCandidates(freq, 2)\n"
   ]
  },
  {
   "cell_type": "code",
   "execution_count": 4,
   "metadata": {},
   "outputs": [],
   "source": [
    "testing = np.array([[\"hey\",3],[\"bro\",3],[\"man\",1]])\n",
    "test2 = np.array([7,7,7])\n",
    "ok = np.asarray(list((zip(freq2,occ2))))\n",
    "first = np.array([item[0] for item in ok[:,0]])\n",
    "second = np.array([item[1] for item in ok[:,0]])\n",
    "df2 = pd.DataFrame({'Item 1': first, 'Item 2': second, 'Occurences': ok[:,-1]})"
   ]
  },
  {
   "cell_type": "code",
   "execution_count": 5,
   "metadata": {},
   "outputs": [
    {
     "output_type": "execute_result",
     "data": {
      "text/plain": [
       "    Item 1   Item 2 Occurences\n",
       "0    apple   orange         11\n",
       "1  chicken   nugget          7\n",
       "2    apple  chicken          7\n",
       "3  chicken   orange          7\n",
       "4    apple   nugget          7\n",
       "5   nugget   orange          7"
      ],
      "text/html": "<div>\n<style scoped>\n    .dataframe tbody tr th:only-of-type {\n        vertical-align: middle;\n    }\n\n    .dataframe tbody tr th {\n        vertical-align: top;\n    }\n\n    .dataframe thead th {\n        text-align: right;\n    }\n</style>\n<table border=\"1\" class=\"dataframe\">\n  <thead>\n    <tr style=\"text-align: right;\">\n      <th></th>\n      <th>Item 1</th>\n      <th>Item 2</th>\n      <th>Occurences</th>\n    </tr>\n  </thead>\n  <tbody>\n    <tr>\n      <th>0</th>\n      <td>apple</td>\n      <td>orange</td>\n      <td>11</td>\n    </tr>\n    <tr>\n      <th>1</th>\n      <td>chicken</td>\n      <td>nugget</td>\n      <td>7</td>\n    </tr>\n    <tr>\n      <th>2</th>\n      <td>apple</td>\n      <td>chicken</td>\n      <td>7</td>\n    </tr>\n    <tr>\n      <th>3</th>\n      <td>chicken</td>\n      <td>orange</td>\n      <td>7</td>\n    </tr>\n    <tr>\n      <th>4</th>\n      <td>apple</td>\n      <td>nugget</td>\n      <td>7</td>\n    </tr>\n    <tr>\n      <th>5</th>\n      <td>nugget</td>\n      <td>orange</td>\n      <td>7</td>\n    </tr>\n  </tbody>\n</table>\n</div>"
     },
     "metadata": {},
     "execution_count": 5
    }
   ],
   "source": [
    "df2"
   ]
  },
  {
   "cell_type": "code",
   "execution_count": null,
   "metadata": {},
   "outputs": [],
   "source": []
  }
 ]
}