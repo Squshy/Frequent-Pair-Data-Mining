{
 "metadata": {
  "language_info": {
   "codemirror_mode": {
    "name": "ipython",
    "version": 3
   },
   "file_extension": ".py",
   "mimetype": "text/x-python",
   "name": "python",
   "nbconvert_exporter": "python",
   "pygments_lexer": "ipython3",
   "version": "3.7.0-final"
  },
  "orig_nbformat": 2,
  "kernelspec": {
   "name": "python3",
   "display_name": "Python 3.7.0 64-bit (conda)",
   "metadata": {
    "interpreter": {
     "hash": "cbb7e187236b00b7ded093dcc56893c8d346ec4edb708f0afe40db7bb88b5c34"
    }
   }
  }
 },
 "nbformat": 4,
 "nbformat_minor": 2,
 "cells": [
  {
   "cell_type": "code",
   "execution_count": 1,
   "metadata": {},
   "outputs": [],
   "source": [
    "\n",
    "from new_apri import PassOne, PassTwo, CreateCandidates, Apriori\n",
    "from helper import GetItemsetFromFile, SaveDataToFile, CreateSupportList, SaveDataFrameToHTMLFile\n",
    "from time import time\n",
    "import pandas as pd\n",
    "import numpy as np"
   ]
  },
  {
   "cell_type": "code",
   "execution_count": 2,
   "metadata": {},
   "outputs": [],
   "source": [
    "baskets_data = [\n",
    "  ['bear', 'apple'],\n",
    "  ['bear', 'orange', 'onion'],\n",
    "  ['apple', 'orange', 'onion'],\n",
    "  ['bear', 'apple', 'orange'],\n",
    "  ['bear', 'apple', 'orange'],\n",
    "  ['apple', 'orange'],\n",
    "  ['orange'],\n",
    "  ['chicken', 'nugget', 'apple', 'orange'],\n",
    "  ['chicken', 'nugget', 'apple', 'orange'],\n",
    "  ['chicken', 'nugget', 'apple', 'orange'],\n",
    "  ['chicken', 'nugget', 'apple', 'orange'],\n",
    "  ['chicken', 'nugget', 'apple', 'orange'],\n",
    "  ['chicken', 'nugget', 'apple', 'orange'],\n",
    "  ['chicken', 'nugget', 'apple', 'orange'],\n",
    "]"
   ]
  },
  {
   "cell_type": "code",
   "execution_count": 3,
   "metadata": {},
   "outputs": [
    {
     "output_type": "stream",
     "name": "stdout",
     "text": [
      "Running Apriori looking for pairs with support of 50%\nFrequent Items: [('apple', 'orange'), ('chicken', 'nugget'), ('apple', 'chicken'), ('chicken', 'orange'), ('apple', 'nugget'), ('nugget', 'orange')]\nOccurences Items: [11, 7, 7, 7, 7, 7]\n\n\nRunning Apriori looking for triples with support of 50%\n[('apple', 'orange'), ('chicken', 'nugget'), ('apple', 'chicken'), ('chicken', 'orange'), ('apple', 'nugget'), ('nugget', 'orange')]\n\n\n\n('apple', 'orange')\n('chicken', 'nugget')\n('apple', 'orange')\n('apple', 'chicken')\n('apple', 'orange')\n('chicken', 'orange')\n('apple', 'orange')\n('apple', 'nugget')\n('apple', 'orange')\n('nugget', 'orange')\n('chicken', 'nugget')\n('apple', 'chicken')\n('chicken', 'nugget')\n('chicken', 'orange')\n('chicken', 'nugget')\n('apple', 'nugget')\n('chicken', 'nugget')\n('nugget', 'orange')\n('apple', 'chicken')\n('chicken', 'orange')\n('apple', 'chicken')\n('apple', 'nugget')\n('apple', 'chicken')\n('nugget', 'orange')\n('chicken', 'orange')\n('apple', 'nugget')\n('chicken', 'orange')\n('nugget', 'orange')\n('apple', 'nugget')\n('nugget', 'orange')\nFrequent Items: [['orange', 'apple', 'chicken', 'nugget'], ['orange', 'apple', 'chicken'], ['orange', 'apple', 'nugget'], ['apple', 'nugget', 'chicken'], ['orange', 'nugget', 'chicken'], ['apple', 'chicken', 'nugget']]\n\n\n"
     ]
    }
   ],
   "source": [
    "print(\"Running Apriori looking for pairs with support of 50%\")\n",
    "occ, freq = Apriori(baskets_data, 0.5, 2)\n",
    "print(\"Frequent Items: \" + str(freq))\n",
    "print(\"Occurences Items: \" + str(occ) + \"\\n\\n\")\n",
    "\n",
    "print(\"Running Apriori looking for triples with support of 50%\")\n",
    "freq = Apriori(baskets_data, 0.5, 3)\n",
    "print(\"Frequent Items: \" + str(freq) + \"\\n\\n\")\n",
    "#print(freq)\n",
    "#cand = CreateCandidates(freq, 2)\n"
   ]
  },
  {
   "cell_type": "code",
   "execution_count": 78,
   "metadata": {},
   "outputs": [],
   "source": [
    "testing = np.array([[\"hey\",3],[\"bro\",3],[\"man\",1]])\n",
    "test2 = np.array([7,7,7])\n",
    "ok = np.asarray(list((zip(testing,test2))))\n",
    "first = np.array([item[0] for item in ok[:,0]])\n",
    "second = np.array([item[1] for item in ok[:,0]])\n",
    "df2 = pd.DataFrame({'Item 1': first, 'Item 2': second, 'Support': ok[:,-1]})"
   ]
  },
  {
   "cell_type": "code",
   "execution_count": 79,
   "metadata": {},
   "outputs": [
    {
     "output_type": "execute_result",
     "data": {
      "text/plain": [
       "  Item 1 Item 2 Support\n",
       "0    hey      3       7\n",
       "1    bro      3       7\n",
       "2    man      1       7"
      ],
      "text/html": "<div>\n<style scoped>\n    .dataframe tbody tr th:only-of-type {\n        vertical-align: middle;\n    }\n\n    .dataframe tbody tr th {\n        vertical-align: top;\n    }\n\n    .dataframe thead th {\n        text-align: right;\n    }\n</style>\n<table border=\"1\" class=\"dataframe\">\n  <thead>\n    <tr style=\"text-align: right;\">\n      <th></th>\n      <th>Item 1</th>\n      <th>Item 2</th>\n      <th>Support</th>\n    </tr>\n  </thead>\n  <tbody>\n    <tr>\n      <th>0</th>\n      <td>hey</td>\n      <td>3</td>\n      <td>7</td>\n    </tr>\n    <tr>\n      <th>1</th>\n      <td>bro</td>\n      <td>3</td>\n      <td>7</td>\n    </tr>\n    <tr>\n      <th>2</th>\n      <td>man</td>\n      <td>1</td>\n      <td>7</td>\n    </tr>\n  </tbody>\n</table>\n</div>"
     },
     "metadata": {},
     "execution_count": 79
    }
   ],
   "source": [
    "df2"
   ]
  },
  {
   "cell_type": "code",
   "execution_count": 44,
   "metadata": {},
   "outputs": [
    {
     "output_type": "stream",
     "name": "stdout",
     "text": [
      "['hey', 'how are you?', '17', '19']\n"
     ]
    }
   ],
   "source": [
    "list1 = [\"hey\", \"how are you?\", \"17\"]\n",
    "list2 = [\"hey\", \"how are you?\", \"19\"]\n",
    "def combine(list1, list2):\n",
    "    lst1 = [str(i) for i in list1]\n",
    "    lst2 = [str(i) for i in list2]\n",
    "    return lst1 + list(set(lst2) - set(lst1))"
   ]
  },
  {
   "cell_type": "code",
   "execution_count": 45,
   "metadata": {},
   "outputs": [],
   "source": [
    "items = [('apple', 'orange'), ('chicken', 'nugget'), ('apple', 'chicken'), ('chicken', 'orange'), ('apple', 'nugget'), ('nugget', 'orange')]"
   ]
  },
  {
   "cell_type": "code",
   "execution_count": 46,
   "metadata": {},
   "outputs": [
    {
     "output_type": "stream",
     "name": "stdout",
     "text": [
      "('apple', 'orange') starts the same as ('apple', 'chicken')\n['apple' 'orange']\n['apple' 'chicken']\n['apple', 'orange', 'chicken']\n('apple', 'orange') starts the same as ('apple', 'nugget')\n['apple' 'orange']\n['apple' 'nugget']\n['apple', 'orange', 'nugget']\n('chicken', 'nugget') starts the same as ('chicken', 'orange')\n['chicken' 'nugget']\n['chicken' 'orange']\n['chicken', 'nugget', 'orange']\n('apple', 'chicken') starts the same as ('apple', 'nugget')\n['apple' 'chicken']\n['apple' 'nugget']\n['apple', 'chicken', 'nugget']\n"
     ]
    }
   ],
   "source": [
    "n = len(items)\n",
    "for i in range(n):\n",
    "    for j in range(i+1, n):\n",
    "        if items[i][0] == items[j][0]:\n",
    "            print(str(items[i]) + \" starts the same as \" + str(items[j]))\n",
    "            print(combine(np.asarray(list(items[i])), np.asarray(list(items[j]))))"
   ]
  },
  {
   "cell_type": "code",
   "execution_count": 8,
   "metadata": {},
   "outputs": [
    {
     "output_type": "execute_result",
     "data": {
      "text/plain": [
       "[('apple', 'orange'),\n",
       " ('chicken', 'nugget'),\n",
       " ('apple', 'chicken'),\n",
       " ('chicken', 'orange'),\n",
       " ('apple', 'nugget'),\n",
       " ('nugget', 'orange')]"
      ]
     },
     "metadata": {},
     "execution_count": 8
    }
   ],
   "source": [
    "items"
   ]
  },
  {
   "cell_type": "code",
   "execution_count": null,
   "metadata": {},
   "outputs": [],
   "source": []
  }
 ]
}