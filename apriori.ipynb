{
 "metadata": {
  "language_info": {
   "codemirror_mode": {
    "name": "ipython",
    "version": 3
   },
   "file_extension": ".py",
   "mimetype": "text/x-python",
   "name": "python",
   "nbconvert_exporter": "python",
   "pygments_lexer": "ipython3",
   "version": "3.7.0-final"
  },
  "orig_nbformat": 2,
  "kernelspec": {
   "name": "python3",
   "display_name": "Python 3.7.0 64-bit (conda)",
   "metadata": {
    "interpreter": {
     "hash": "cbb7e187236b00b7ded093dcc56893c8d346ec4edb708f0afe40db7bb88b5c34"
    }
   }
  }
 },
 "nbformat": 4,
 "nbformat_minor": 2,
 "cells": [
  {
   "cell_type": "code",
   "execution_count": 1,
   "metadata": {},
   "outputs": [],
   "source": [
    "from apriori import GetDataItems, CreateCK, DetermineFrequentItems, Apriori\n",
    "from helper import GetItemsetFromFile, SaveDataToFile, CreateSupportList\n",
    "from time import time\n",
    "import pandas as pd\n",
    "import numpy as np"
   ]
  },
  {
   "cell_type": "code",
   "execution_count": 2,
   "metadata": {},
   "outputs": [],
   "source": [
    "baskets_data = [\n",
    "  ['bear', 'apple'],\n",
    "  ['bear', 'orange', 'onion'],\n",
    "  ['apple', 'orange', 'onion'],\n",
    "  ['bear', 'apple', 'orange', 'onion'],\n",
    "  ['bear', 'apple', 'orange'],\n",
    "  ['apple', 'orange'],\n",
    "  ['orange'],\n",
    "  ['apple', 'onion', 'orange'],\n",
    "  ['orange', 'onion'],\n",
    "  ['apple', 'orange', 'onion']\n",
    "]"
   ]
  },
  {
   "cell_type": "code",
   "execution_count": 3,
   "metadata": {},
   "outputs": [
    {
     "output_type": "stream",
     "name": "stdout",
     "text": [
      "Getting unique items in baskets...\nChecking line 0 in first pass\nDetermining Frequent Items...\nCreating Ck...\nDetermining Frequent Items...\n"
     ]
    }
   ],
   "source": [
    "min_support = 0.5\n",
    "\n",
    "data, supp = Apriori(baskets_data, 2, min_support)\n",
    "SaveDataToFile(data, supp, \"apri_test.data\")\n",
    "xd = CreateSupportList(data, supp)\n",
    "df = pd.DataFrame(xd, columns=['Item 1', 'Item 2', 'Support'])\n"
   ]
  },
  {
   "cell_type": "code",
   "execution_count": 4,
   "metadata": {},
   "outputs": [
    {
     "output_type": "execute_result",
     "data": {
      "text/plain": [
       "[['apple', 0.6, 'orange', 0.6], ['onion', 0.6, 'orange', 0.6]]"
      ]
     },
     "metadata": {},
     "execution_count": 4
    }
   ],
   "source": [
    "xd"
   ]
  },
  {
   "cell_type": "code",
   "execution_count": null,
   "metadata": {},
   "outputs": [],
   "source": []
  }
 ]
}