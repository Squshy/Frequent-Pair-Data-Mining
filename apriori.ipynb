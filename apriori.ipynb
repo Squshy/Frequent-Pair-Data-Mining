{
 "metadata": {
  "language_info": {
   "codemirror_mode": {
    "name": "ipython",
    "version": 3
   },
   "file_extension": ".py",
   "mimetype": "text/x-python",
   "name": "python",
   "nbconvert_exporter": "python",
   "pygments_lexer": "ipython3",
   "version": "3.7.0-final"
  },
  "orig_nbformat": 2,
  "kernelspec": {
   "name": "python3",
   "display_name": "Python 3.7.0 64-bit (conda)",
   "metadata": {
    "interpreter": {
     "hash": "cbb7e187236b00b7ded093dcc56893c8d346ec4edb708f0afe40db7bb88b5c34"
    }
   }
  }
 },
 "nbformat": 4,
 "nbformat_minor": 2,
 "cells": [
  {
   "cell_type": "code",
   "execution_count": 1,
   "metadata": {},
   "outputs": [],
   "source": [
    "from apriori import Apriori\n",
    "from helper import GetItemsetFromFile, PrintTimeInfo, SaveDataFrameToHTMLFile, SaveDataFrameToHTMLFile, CreateTripleDataFrame, GetSubsectionOfData, CreatePairDataFrame\n",
    "from time import time\n",
    "import pandas as pd\n",
    "import numpy as np"
   ]
  },
  {
   "cell_type": "code",
   "execution_count": 2,
   "metadata": {
    "tags": []
   },
   "outputs": [
    {
     "output_type": "stream",
     "name": "stdout",
     "text": [
      "Time taken to read retail data: 0.24 seconds\n"
     ]
    }
   ],
   "source": [
    "s_t = time()\n",
    "retail_data = GetItemsetFromFile(\"retail.data\")\n",
    "f_t = time()\n",
    "print(\"Time taken to read retail data: %.2f seconds\" % (f_t - s_t))"
   ]
  },
  {
   "cell_type": "code",
   "execution_count": 3,
   "metadata": {},
   "outputs": [],
   "source": [
    "support_values = [0.01, 0.02, 0.05]\n",
    "split_data_values = [0.2, 0.4, 1]"
   ]
  },
  {
   "cell_type": "code",
   "execution_count": 4,
   "metadata": {},
   "outputs": [
    {
     "output_type": "stream",
     "name": "stdout",
     "text": [
      "Time taken to complete Apriori on 20% of data using pairs of retail data: 2.79 seconds with support: 1%\n",
      "Time taken to complete Apriori on 20% of data using pairs of retail data: 1.46 seconds with support: 2%\n",
      "Time taken to complete Apriori on 20% of data using pairs of retail data: 0.97 seconds with support: 5%\n",
      "Done running Apriori pairs on 20% of data\n",
      "\n",
      "Time taken to complete Apriori on 40% of data using pairs of retail data: 5.40 seconds with support: 1%\n",
      "Time taken to complete Apriori on 40% of data using pairs of retail data: 2.69 seconds with support: 2%\n",
      "Time taken to complete Apriori on 40% of data using pairs of retail data: 1.77 seconds with support: 5%\n",
      "Done running Apriori pairs on 40% of data\n",
      "\n",
      "Time taken to complete Apriori on 100% of data using pairs of retail data: 12.72 seconds with support: 1%\n",
      "Time taken to complete Apriori on 100% of data using pairs of retail data: 7.13 seconds with support: 2%\n",
      "Time taken to complete Apriori on 100% of data using pairs of retail data: 4.41 seconds with support: 5%\n",
      "Done running Apriori pairs on 100% of data\n",
      "\n"
     ]
    }
   ],
   "source": [
    "# Perfom Apriori on pairs of data for all support values and split data values\n",
    "for data_split in split_data_values:\n",
    "    for support in support_values:\n",
    "        data = GetSubsectionOfData(retail_data, data_split) # Get % of data\n",
    "        file_name = \"apri-ret-p-\"+str(round(data_split*100))+\"-\" + str(round(support*100))   # Set file name\n",
    "\n",
    "        s_t = time()    # Start Time\n",
    "        occ, freq = Apriori(data, support, 2)\n",
    "        f_t = time()    # End Time\n",
    "        PrintTimeInfo(\"Apriori\", (data_split * 100), (f_t - s_t), support, \"pairs\")\n",
    "        df = CreatePairDataFrame(occ, freq, len(data))\n",
    "        SaveDataFrameToHTMLFile(df, file_name)\n",
    "    print(\"Done running Apriori pairs on %d%% of data\" % (data_split * 100)+\"\\n\")"
   ]
  },
  {
   "cell_type": "code",
   "execution_count": 5,
   "metadata": {},
   "outputs": [
    {
     "output_type": "stream",
     "name": "stdout",
     "text": [
      "Time taken to complete Apriori on 20% of data using triples of retail data: 2.71 seconds with support: 1%\n",
      "Time taken to complete Apriori on 20% of data using triples of retail data: 1.40 seconds with support: 2%\n",
      "Time taken to complete Apriori on 20% of data using triples of retail data: 0.92 seconds with support: 5%\n",
      "Done running Apriori triples on 20% of data\n",
      "\n",
      "Time taken to complete Apriori on 40% of data using triples of retail data: 5.48 seconds with support: 1%\n",
      "Time taken to complete Apriori on 40% of data using triples of retail data: 2.92 seconds with support: 2%\n",
      "Time taken to complete Apriori on 40% of data using triples of retail data: 1.86 seconds with support: 5%\n",
      "Done running Apriori triples on 40% of data\n",
      "\n",
      "Time taken to complete Apriori on 100% of data using triples of retail data: 12.91 seconds with support: 1%\n",
      "Time taken to complete Apriori on 100% of data using triples of retail data: 6.63 seconds with support: 2%\n",
      "Time taken to complete Apriori on 100% of data using triples of retail data: 5.27 seconds with support: 5%\n",
      "Done running Apriori triples on 100% of data\n",
      "\n"
     ]
    }
   ],
   "source": [
    "# Perfom Apriori on triples of data for all support values and split data values\n",
    "for data_split in split_data_values:\n",
    "    for support in support_values:\n",
    "        data = GetSubsectionOfData(retail_data, data_split) # Get % of data\n",
    "        file_name = \"apri-ret-t-\"+str(round(data_split*100))+\"-\" + str(round(support*100))   # Set file name\n",
    "\n",
    "        s_t = time()    # Start Time\n",
    "        freq = Apriori(data, support, 3)\n",
    "        f_t = time()    # End Time\n",
    "        PrintTimeInfo(\"Apriori\", (data_split * 100), (f_t - s_t), support, \"triples\")\n",
    "        df = CreateTripleDataFrame(freq)\n",
    "        SaveDataFrameToHTMLFile(df, file_name)\n",
    "    print(\"Done running Apriori triples on %d%% of data\" % (data_split * 100)+\"\\n\")"
   ]
  }
 ]
}