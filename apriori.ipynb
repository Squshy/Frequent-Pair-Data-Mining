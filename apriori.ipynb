{
 "metadata": {
  "language_info": {
   "codemirror_mode": {
    "name": "ipython",
    "version": 3
   },
   "file_extension": ".py",
   "mimetype": "text/x-python",
   "name": "python",
   "nbconvert_exporter": "python",
   "pygments_lexer": "ipython3",
   "version": "3.7.0-final"
  },
  "orig_nbformat": 2,
  "kernelspec": {
   "name": "python3",
   "display_name": "Python 3.7.0 64-bit (conda)",
   "metadata": {
    "interpreter": {
     "hash": "cbb7e187236b00b7ded093dcc56893c8d346ec4edb708f0afe40db7bb88b5c34"
    }
   }
  }
 },
 "nbformat": 4,
 "nbformat_minor": 2,
 "cells": [
  {
   "cell_type": "code",
   "execution_count": 1,
   "metadata": {},
   "outputs": [],
   "source": [
    "from apriori import GetDataItems, CreateCK, DetermineFrequentItems, Apriori\n",
    "from helper import GetItemsetFromFile, SaveDataToFile, CreateSupportList\n",
    "from time import time\n",
    "import pandas as pd\n",
    "import numpy as np"
   ]
  },
  {
   "cell_type": "code",
   "execution_count": 2,
   "metadata": {},
   "outputs": [],
   "source": [
    "baskets_data = [\n",
    "  ['bear', 'apple'],\n",
    "  ['bear', 'orange', 'onion'],\n",
    "  ['apple', 'orange', 'onion'],\n",
    "  ['bear', 'apple', 'orange', 'onion'],\n",
    "  ['bear', 'apple', 'orange'],\n",
    "  ['apple', 'orange'],\n",
    "  ['orange'],\n",
    "  ['bear', 'apple', 'onion', 'orange'],\n",
    "  ['apple', 'orange', 'onion'],\n",
    "  ['bear', 'apple', 'orange', 'onion']\n",
    "]"
   ]
  },
  {
   "cell_type": "code",
   "execution_count": 3,
   "metadata": {},
   "outputs": [
    {
     "output_type": "stream",
     "name": "stdout",
     "text": [
      "Getting unique items in baskets...\nChecking line 0 in first pass\nDetermining Frequent Items...\nSet we are working with: [{'bear'}, {'apple'}, {'orange'}, {'onion'}]\nCount of frozenset({'bear'}) is: 6\nCount of frozenset({'apple'}) is: 7\nCount of frozenset({'orange'}) is: 9\nCount of frozenset({'onion'}) is: 6\nCreating Ck...\nDetermining Frequent Items...\nSet we are working with: [frozenset({'orange', 'onion'}), frozenset({'apple', 'onion'}), frozenset({'bear', 'onion'}), frozenset({'orange', 'apple'}), frozenset({'orange', 'bear'}), frozenset({'apple', 'bear'})]\nCount of frozenset({'apple', 'bear'}) is: 5\nCount of frozenset({'orange', 'onion'}) is: 6\nCount of frozenset({'bear', 'onion'}) is: 4\nCount of frozenset({'orange', 'bear'}) is: 5\nCount of frozenset({'apple', 'onion'}) is: 4\nCount of frozenset({'orange', 'apple'}) is: 6\nCreating Ck...\nDetermining Frequent Items...\nSet we are working with: [frozenset({'orange', 'apple', 'bear'}), frozenset({'orange', 'apple', 'onion'}), frozenset({'orange', 'bear', 'onion'}), frozenset({'orange', 'apple', 'bear', 'onion'})]\nCount of frozenset({'orange', 'bear', 'onion'}) is: 4\nCount of frozenset({'orange', 'apple', 'onion'}) is: 4\nCount of frozenset({'orange', 'apple', 'bear'}) is: 4\nCount of frozenset({'orange', 'apple', 'bear', 'onion'}) is: 3\n"
     ]
    }
   ],
   "source": [
    "min_support = 0.5\n",
    "\n",
    "data, supp = Apriori(baskets_data, 3, min_support)\n",
    "SaveDataToFile(data, supp, \"apri_test.out\")\n",
    "xd = CreateSupportList(data, supp)\n",
    "df = pd.DataFrame(xd, columns=['Item 1', 'Item 2', 'Item 3', 'Support'])\n"
   ]
  },
  {
   "cell_type": "code",
   "execution_count": 4,
   "metadata": {},
   "outputs": [
    {
     "output_type": "execute_result",
     "data": {
      "text/plain": [
       "Empty DataFrame\n",
       "Columns: [Item 1, Item 2, Item 3, Support]\n",
       "Index: []"
      ],
      "text/html": "<div>\n<style scoped>\n    .dataframe tbody tr th:only-of-type {\n        vertical-align: middle;\n    }\n\n    .dataframe tbody tr th {\n        vertical-align: top;\n    }\n\n    .dataframe thead th {\n        text-align: right;\n    }\n</style>\n<table border=\"1\" class=\"dataframe\">\n  <thead>\n    <tr style=\"text-align: right;\">\n      <th></th>\n      <th>Item 1</th>\n      <th>Item 2</th>\n      <th>Item 3</th>\n      <th>Support</th>\n    </tr>\n  </thead>\n  <tbody>\n  </tbody>\n</table>\n</div>"
     },
     "metadata": {},
     "execution_count": 4
    }
   ],
   "source": [
    "df"
   ]
  },
  {
   "cell_type": "code",
   "execution_count": null,
   "metadata": {},
   "outputs": [],
   "source": []
  },
  {
   "cell_type": "code",
   "execution_count": null,
   "metadata": {},
   "outputs": [],
   "source": []
  }
 ]
}