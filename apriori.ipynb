{
 "metadata": {
  "language_info": {
   "codemirror_mode": {
    "name": "ipython",
    "version": 3
   },
   "file_extension": ".py",
   "mimetype": "text/x-python",
   "name": "python",
   "nbconvert_exporter": "python",
   "pygments_lexer": "ipython3",
   "version": "3.7.0-final"
  },
  "orig_nbformat": 2,
  "kernelspec": {
   "name": "python3",
   "display_name": "Python 3.7.0 64-bit (conda)",
   "metadata": {
    "interpreter": {
     "hash": "cbb7e187236b00b7ded093dcc56893c8d346ec4edb708f0afe40db7bb88b5c34"
    }
   }
  }
 },
 "nbformat": 4,
 "nbformat_minor": 2,
 "cells": [
  {
   "cell_type": "code",
   "execution_count": 1,
   "metadata": {},
   "outputs": [
    {
     "output_type": "error",
     "ename": "ImportError",
     "evalue": "cannot import name 'CreateTipleDataFrame' from 'helper' (c:\\Users\\Calvin\\Desktop\\University\\Year 2\\Semester 2\\BigData\\lab_1_2_3_4_5\\helper.py)",
     "traceback": [
      "\u001b[1;31m---------------------------------------------------------------------------\u001b[0m",
      "\u001b[1;31mImportError\u001b[0m                               Traceback (most recent call last)",
      "\u001b[1;32m<ipython-input-1-38fbf01ed0f5>\u001b[0m in \u001b[0;36m<module>\u001b[1;34m()\u001b[0m\n\u001b[0;32m      1\u001b[0m \u001b[1;32mfrom\u001b[0m \u001b[0mapriori\u001b[0m \u001b[1;32mimport\u001b[0m \u001b[0mApriori\u001b[0m\u001b[1;33m\u001b[0m\u001b[0m\n\u001b[1;32m----> 2\u001b[1;33m \u001b[1;32mfrom\u001b[0m \u001b[0mhelper\u001b[0m \u001b[1;32mimport\u001b[0m \u001b[0mGetItemsetFromFile\u001b[0m\u001b[1;33m,\u001b[0m \u001b[0mCreateSupportList\u001b[0m\u001b[1;33m,\u001b[0m \u001b[0mSaveDataFrameToHTMLFile\u001b[0m\u001b[1;33m,\u001b[0m \u001b[0mGetSubsectionOfData\u001b[0m\u001b[1;33m,\u001b[0m \u001b[0mCreatePairDataFrame\u001b[0m\u001b[1;33m,\u001b[0m \u001b[0mCreateTipleDataFrame\u001b[0m\u001b[1;33m\u001b[0m\u001b[0m\n\u001b[0m\u001b[0;32m      3\u001b[0m \u001b[1;32mfrom\u001b[0m \u001b[0mtime\u001b[0m \u001b[1;32mimport\u001b[0m \u001b[0mtime\u001b[0m\u001b[1;33m\u001b[0m\u001b[0m\n\u001b[0;32m      4\u001b[0m \u001b[1;32mimport\u001b[0m \u001b[0mpandas\u001b[0m \u001b[1;32mas\u001b[0m \u001b[0mpd\u001b[0m\u001b[1;33m\u001b[0m\u001b[0m\n\u001b[0;32m      5\u001b[0m \u001b[1;32mimport\u001b[0m \u001b[0mnumpy\u001b[0m \u001b[1;32mas\u001b[0m \u001b[0mnp\u001b[0m\u001b[1;33m\u001b[0m\u001b[0m\n",
      "\u001b[1;31mImportError\u001b[0m: cannot import name 'CreateTipleDataFrame' from 'helper' (c:\\Users\\Calvin\\Desktop\\University\\Year 2\\Semester 2\\BigData\\lab_1_2_3_4_5\\helper.py)"
     ]
    }
   ],
   "source": [
    "from apriori import Apriori\n",
    "from helper import GetItemsetFromFile, CreateSupportList, SaveDataFrameToHTMLFile, GetSubsectionOfData, CreatePairDataFrame, CreateTripleDataFrame\n",
    "from time import time\n",
    "import pandas as pd\n",
    "import numpy as np"
   ]
  },
  {
   "cell_type": "code",
   "execution_count": 2,
   "metadata": {
    "tags": []
   },
   "outputs": [
    {
     "output_type": "error",
     "ename": "NameError",
     "evalue": "name 'time' is not defined",
     "traceback": [
      "\u001b[1;31m---------------------------------------------------------------------------\u001b[0m",
      "\u001b[1;31mNameError\u001b[0m                                 Traceback (most recent call last)",
      "\u001b[1;32m<ipython-input-2-e0d87b9d29ed>\u001b[0m in \u001b[0;36m<module>\u001b[1;34m()\u001b[0m\n\u001b[1;32m----> 1\u001b[1;33m \u001b[0ms_t\u001b[0m \u001b[1;33m=\u001b[0m \u001b[0mtime\u001b[0m\u001b[1;33m(\u001b[0m\u001b[1;33m)\u001b[0m\u001b[1;33m\u001b[0m\u001b[0m\n\u001b[0m\u001b[0;32m      2\u001b[0m \u001b[0mretail_data\u001b[0m \u001b[1;33m=\u001b[0m \u001b[0mGetItemsetFromFile\u001b[0m\u001b[1;33m(\u001b[0m\u001b[1;34m\"retail.data\"\u001b[0m\u001b[1;33m)\u001b[0m\u001b[1;33m\u001b[0m\u001b[0m\n\u001b[0;32m      3\u001b[0m \u001b[0mf_t\u001b[0m \u001b[1;33m=\u001b[0m \u001b[0mtime\u001b[0m\u001b[1;33m(\u001b[0m\u001b[1;33m)\u001b[0m\u001b[1;33m\u001b[0m\u001b[0m\n\u001b[0;32m      4\u001b[0m \u001b[0mprint\u001b[0m\u001b[1;33m(\u001b[0m\u001b[1;34m\"Time taken to read retail data: %.2f seconds\"\u001b[0m \u001b[1;33m%\u001b[0m \u001b[1;33m(\u001b[0m\u001b[0mf_t\u001b[0m \u001b[1;33m-\u001b[0m \u001b[0ms_t\u001b[0m\u001b[1;33m)\u001b[0m\u001b[1;33m)\u001b[0m\u001b[1;33m\u001b[0m\u001b[0m\n",
      "\u001b[1;31mNameError\u001b[0m: name 'time' is not defined"
     ]
    }
   ],
   "source": [
    "s_t = time()\n",
    "retail_data = GetItemsetFromFile(\"retail.data\")\n",
    "f_t = time()\n",
    "print(\"Time taken to read retail data: %.2f seconds\" % (f_t - s_t))"
   ]
  },
  {
   "cell_type": "code",
   "execution_count": 3,
   "metadata": {},
   "outputs": [],
   "source": [
    "support = 0.01"
   ]
  },
  {
   "cell_type": "code",
   "execution_count": 4,
   "metadata": {},
   "outputs": [
    {
     "output_type": "stream",
     "name": "stdout",
     "text": [
      "20% of 88162 is 17632\n"
     ]
    }
   ],
   "source": [
    "### 20% OF RETAIL DATA\n",
    "retail_20 = GetSubsectionOfData(retail_data, .2)"
   ]
  },
  {
   "cell_type": "code",
   "execution_count": 5,
   "metadata": {},
   "outputs": [
    {
     "output_type": "stream",
     "name": "stdout",
     "text": [
      "Min support: 176.32000\n",
      "Reading line 0 of 17632\n",
      "Reading line 0 of 17632 in pass two\n",
      "Time taken to perform Apriori pairs on 20% of retail data: 2.67 seconds, with support 0.01\n"
     ]
    }
   ],
   "source": [
    "s_t = time()\n",
    "pair_occ, pair_freq = Apriori(retail_20, support, 2)\n",
    "f_t = time()\n",
    "print(\"Time taken to perform Apriori pairs on 20%% of retail data: %.2f seconds, with support %.2f\" % ((f_t - s_t), support))"
   ]
  },
  {
   "cell_type": "code",
   "execution_count": 7,
   "metadata": {},
   "outputs": [],
   "source": [
    "pair_df = CreatePairDataFrame(pair_occ, pair_freq, len(retail_20))\n",
    "SaveDataFrameToHTMLFile(pair_df, \"apri-ret-p-20-\"+str(round(support*100)))"
   ]
  },
  {
   "cell_type": "code",
   "execution_count": 7,
   "metadata": {},
   "outputs": [
    {
     "output_type": "stream",
     "name": "stdout",
     "text": [
      "40% of 88162 is 35265\n"
     ]
    }
   ],
   "source": [
    "### 40% OF RETAIL DATA\n",
    "retail_40 = GetSubsectionOfData(retail_data, .4)"
   ]
  },
  {
   "cell_type": "code",
   "execution_count": 8,
   "metadata": {},
   "outputs": [
    {
     "output_type": "stream",
     "name": "stdout",
     "text": [
      "Min support: 352.65000\n",
      "Reading line 0 of 35265\n",
      "Reading line 0 of 35265 in pass two\n",
      "Time taken to perform Apriori pairs on 40% of retail data: 5.43 seconds, with support 0.01\n"
     ]
    }
   ],
   "source": [
    "s_t = time()\n",
    "pair_occ, pair_freq = Apriori(retail_40, support, 2)\n",
    "f_t = time()\n",
    "print(\"Time taken to perform Apriori pairs on 40%% of retail data: %.2f seconds, with support %.2f\" % ((f_t - s_t), support))"
   ]
  },
  {
   "cell_type": "code",
   "execution_count": 9,
   "metadata": {},
   "outputs": [],
   "source": [
    "pair_df = CreatePairDataFrame(pair_occ, pair_freq, len(retail_40))\n",
    "SaveDataFrameToHTMLFile(pair_df, \"apri-ret-p-40-\"+str(round(support*100)))"
   ]
  },
  {
   "cell_type": "code",
   "execution_count": 10,
   "metadata": {},
   "outputs": [],
   "source": [
    "### 100% OF DATA"
   ]
  },
  {
   "cell_type": "code",
   "execution_count": 11,
   "metadata": {
    "tags": []
   },
   "outputs": [
    {
     "output_type": "stream",
     "name": "stdout",
     "text": [
      "Min support: 881.62000\n",
      "Reading line 0 of 88162\n",
      "Reading line 50000 of 88162\n",
      "Reading line 0 of 88162 in pass two\n",
      "Reading line 50000 of 88162 in pass two\n",
      "Time taken to perform Apriori pairs on 100% of retail data: 13.75 seconds, with support 0.01\n"
     ]
    }
   ],
   "source": [
    "s_t = time()\n",
    "pair_occ, pair_freq = Apriori(retail_data, support, 2)\n",
    "f_t = time()\n",
    "print(\"Time taken to perform Apriori pairs on 100%% of retail data: %.2f seconds, with support %.2f\" % ((f_t - s_t), support))"
   ]
  },
  {
   "cell_type": "code",
   "execution_count": 12,
   "metadata": {},
   "outputs": [],
   "source": [
    "pair_df = CreatePairDataFrame(pair_occ, pair_freq, len(retail_data))\n",
    "SaveDataFrameToHTMLFile(pair_df, \"apri-ret-p-100-\"+str(round(support*100)))"
   ]
  },
  {
   "cell_type": "code",
   "execution_count": null,
   "metadata": {},
   "outputs": [],
   "source": []
  },
  {
   "cell_type": "code",
   "execution_count": null,
   "metadata": {},
   "outputs": [],
   "source": []
  },
  {
   "cell_type": "code",
   "execution_count": null,
   "metadata": {},
   "outputs": [],
   "source": []
  },
  {
   "cell_type": "code",
   "execution_count": 13,
   "metadata": {},
   "outputs": [],
   "source": [
    "### APRORI TRIPPLES\n",
    "support = 0.02"
   ]
  },
  {
   "cell_type": "code",
   "execution_count": 14,
   "metadata": {},
   "outputs": [
    {
     "output_type": "stream",
     "name": "stdout",
     "text": [
      "Min support: 352.64000\n",
      "Reading line 0 of 17632\n",
      "Reading line 0 of 17632 in pass two\n",
      "Time taken to perform Apriori triples on 20% of retail data: 1.71 seconds, with support 0.02\n"
     ]
    }
   ],
   "source": [
    "s_t = time()\n",
    "triple_freq_20 = Apriori(retail_20, support, 3)\n",
    "f_t = time()\n",
    "print(\"Time taken to perform Apriori triples on 20%% of retail data: %.2f seconds, with support %.2f\" % ((f_t - s_t), support))"
   ]
  },
  {
   "cell_type": "code",
   "execution_count": 15,
   "metadata": {},
   "outputs": [],
   "source": [
    "triple_array = np.asarray([np.array(x) for x in triple_freq_20])\n",
    "triple_df = pd.DataFrame({'Item 1': triple_array[:,0], 'Item 2': triple_array[:,1], 'Item 3': triple_array[:,-1]})\n",
    "SaveDataFrameToHTMLFile(triple_df, \"apri-ret-t-20-\"+str(round(support*100)))"
   ]
  },
  {
   "cell_type": "code",
   "execution_count": 16,
   "metadata": {},
   "outputs": [],
   "source": [
    "## 40% OF RETAIL DATA WITH TRIPLES"
   ]
  },
  {
   "cell_type": "code",
   "execution_count": 17,
   "metadata": {},
   "outputs": [
    {
     "output_type": "stream",
     "name": "stdout",
     "text": [
      "Min support: 705.30000\n",
      "Reading line 0 of 35265\n",
      "Reading line 0 of 35265 in pass two\n",
      "Time taken to perform Apriori triples on 40% of retail data: 2.64 seconds, with support 0.02\n"
     ]
    }
   ],
   "source": [
    "s_t = time()\n",
    "triple_freq_40 = Apriori(retail_40, support, 3)\n",
    "f_t = time()\n",
    "print(\"Time taken to perform Apriori triples on 40%% of retail data: %.2f seconds, with support %.2f\" % ((f_t - s_t), support))"
   ]
  },
  {
   "cell_type": "code",
   "execution_count": 18,
   "metadata": {},
   "outputs": [],
   "source": [
    "triple_array = np.asarray([np.array(x) for x in triple_freq_40])\n",
    "triple_df = pd.DataFrame({'Item 1': triple_array[:,0], 'Item 2': triple_array[:,1], 'Item 3': triple_array[:,-1]})\n",
    "SaveDataFrameToHTMLFile(triple_df, \"apri-ret-t-40-\"+str(round(support*100)))"
   ]
  },
  {
   "cell_type": "code",
   "execution_count": 19,
   "metadata": {},
   "outputs": [],
   "source": [
    "### 100% OF RETAIL DATA WITH TRIPLES"
   ]
  },
  {
   "cell_type": "code",
   "execution_count": 20,
   "metadata": {},
   "outputs": [
    {
     "output_type": "stream",
     "name": "stdout",
     "text": [
      "Min support: 1763.24000\n",
      "Reading line 0 of 88162\n",
      "Reading line 50000 of 88162\n",
      "Reading line 0 of 88162 in pass two\n",
      "Reading line 50000 of 88162 in pass two\n",
      "Time taken to perform Apriori triples on 100% of retail data: 6.45 seconds, with support 0.02\n"
     ]
    }
   ],
   "source": [
    "s_t = time()\n",
    "triple_freq_100 = Apriori(retail_data, support, 3)\n",
    "f_t = time()\n",
    "print(\"Time taken to perform Apriori triples on 100%% of retail data: %.2f seconds, with support %.2f\" % ((f_t - s_t), support))"
   ]
  },
  {
   "cell_type": "code",
   "execution_count": 21,
   "metadata": {},
   "outputs": [],
   "source": [
    "triple_array = np.asarray([np.array(x) for x in triple_freq_100])\n",
    "triple_df = pd.DataFrame({'Item 1': triple_array[:,0], 'Item 2': triple_array[:,1], 'Item 3': triple_array[:,-1]})\n",
    "SaveDataFrameToHTMLFile(triple_df, \"apri-ret-t-100-\"+str(round(support*100)))"
   ]
  },
  {
   "cell_type": "code",
   "execution_count": null,
   "metadata": {},
   "outputs": [],
   "source": []
  },
  {
   "cell_type": "code",
   "execution_count": null,
   "metadata": {},
   "outputs": [],
   "source": []
  },
  {
   "cell_type": "code",
   "execution_count": null,
   "metadata": {},
   "outputs": [],
   "source": []
  },
  {
   "cell_type": "code",
   "execution_count": null,
   "metadata": {},
   "outputs": [],
   "source": [
    "### NETFLIX STUFF ###"
   ]
  },
  {
   "cell_type": "code",
   "execution_count": 2,
   "metadata": {},
   "outputs": [
    {
     "output_type": "stream",
     "name": "stdout",
     "text": [
      "Time taken to read netflix data: 14.03 seconds\n"
     ]
    }
   ],
   "source": [
    "s_t = time()\n",
    "netflix_data = GetItemsetFromFile(\"netflix.data\")\n",
    "f_t = time()\n",
    "print(\"Time taken to read netflix data: %.2f seconds\" % (f_t - s_t))"
   ]
  },
  {
   "cell_type": "code",
   "execution_count": 3,
   "metadata": {},
   "outputs": [
    {
     "output_type": "stream",
     "name": "stdout",
     "text": [
      "40% of 480188 is 192075\n"
     ]
    }
   ],
   "source": [
    "### 40% OF NETFLIX DATA\n",
    "netflix_40 = GetSubsectionOfData(netflix_data, .4)"
   ]
  },
  {
   "cell_type": "code",
   "execution_count": 4,
   "metadata": {},
   "outputs": [
    {
     "output_type": "stream",
     "name": "stdout",
     "text": [
      "Reading line 0 of 192075\n",
      "Reading line 50000 of 192075\n",
      "Reading line 100000 of 192075\n",
      "Reading line 150000 of 192075\n",
      "Reading line 0 of 192075 in pass two\n",
      "Reading line 1 of 192075 in pass two\n",
      "Reading line 2 of 192075 in pass two\n",
      "Reading line 3 of 192075 in pass two\n",
      "Reading line 4 of 192075 in pass two\n",
      "Reading line 5 of 192075 in pass two\n",
      "Reading line 6 of 192075 in pass two\n",
      "Reading line 7 of 192075 in pass two\n",
      "Reading line 8 of 192075 in pass two\n",
      "Reading line 9 of 192075 in pass two\n",
      "Reading line 10 of 192075 in pass two\n",
      "Reading line 11 of 192075 in pass two\n",
      "Reading line 12 of 192075 in pass two\n"
     ]
    },
    {
     "output_type": "error",
     "ename": "KeyboardInterrupt",
     "evalue": "",
     "traceback": [
      "\u001b[1;31m---------------------------------------------------------------------------\u001b[0m",
      "\u001b[1;31mKeyboardInterrupt\u001b[0m                         Traceback (most recent call last)",
      "\u001b[1;32m<ipython-input-4-7f3886293bff>\u001b[0m in \u001b[0;36m<module>\u001b[1;34m()\u001b[0m\n\u001b[0;32m      1\u001b[0m \u001b[0msupport\u001b[0m \u001b[1;33m=\u001b[0m \u001b[1;36m0.01\u001b[0m\u001b[1;33m\u001b[0m\u001b[0m\n\u001b[0;32m      2\u001b[0m \u001b[0ms_t\u001b[0m \u001b[1;33m=\u001b[0m \u001b[0mtime\u001b[0m\u001b[1;33m(\u001b[0m\u001b[1;33m)\u001b[0m\u001b[1;33m\u001b[0m\u001b[0m\n\u001b[1;32m----> 3\u001b[1;33m \u001b[0mocc_1\u001b[0m\u001b[1;33m,\u001b[0m \u001b[0mfreq_1\u001b[0m \u001b[1;33m=\u001b[0m \u001b[0mApriori\u001b[0m\u001b[1;33m(\u001b[0m\u001b[0mnetflix_40\u001b[0m\u001b[1;33m,\u001b[0m \u001b[0msupport\u001b[0m\u001b[1;33m,\u001b[0m \u001b[1;36m2\u001b[0m\u001b[1;33m)\u001b[0m\u001b[1;33m\u001b[0m\u001b[0m\n\u001b[0m\u001b[0;32m      4\u001b[0m \u001b[0mf_t\u001b[0m \u001b[1;33m=\u001b[0m \u001b[0mtime\u001b[0m\u001b[1;33m(\u001b[0m\u001b[1;33m)\u001b[0m\u001b[1;33m\u001b[0m\u001b[0m\n\u001b[0;32m      5\u001b[0m \u001b[0mprint\u001b[0m\u001b[1;33m(\u001b[0m\u001b[1;34m\"Time taken to perform Apriori pairs on 40%% of netflix data: %.2f seconds, with support %.2f%%\"\u001b[0m \u001b[1;33m%\u001b[0m \u001b[1;33m(\u001b[0m\u001b[1;33m(\u001b[0m\u001b[0mf_t\u001b[0m \u001b[1;33m-\u001b[0m \u001b[0ms_t\u001b[0m\u001b[1;33m)\u001b[0m\u001b[1;33m,\u001b[0m \u001b[1;33m(\u001b[0m\u001b[0msupport\u001b[0m\u001b[1;33m*\u001b[0m\u001b[1;36m100\u001b[0m\u001b[1;33m)\u001b[0m\u001b[1;33m)\u001b[0m\u001b[1;33m)\u001b[0m\u001b[1;33m\u001b[0m\u001b[0m\n",
      "\u001b[1;32mc:\\Users\\Calvin\\Desktop\\University\\Year 2\\Semester 2\\BigData\\lab_1_2_3_4_5\\apriori.py\u001b[0m in \u001b[0;36mApriori\u001b[1;34m(data, support, k)\u001b[0m\n\u001b[0;32m    127\u001b[0m \u001b[1;32mdef\u001b[0m \u001b[0mApriori\u001b[0m\u001b[1;33m(\u001b[0m\u001b[0mdata\u001b[0m\u001b[1;33m,\u001b[0m \u001b[0msupport\u001b[0m\u001b[1;33m,\u001b[0m \u001b[0mk\u001b[0m\u001b[1;33m)\u001b[0m\u001b[1;33m:\u001b[0m\u001b[1;33m\u001b[0m\u001b[0m\n\u001b[0;32m    128\u001b[0m   \u001b[0mocc\u001b[0m\u001b[1;33m,\u001b[0m \u001b[0mfreq\u001b[0m \u001b[1;33m=\u001b[0m \u001b[0mPassOne\u001b[0m\u001b[1;33m(\u001b[0m\u001b[0mdata\u001b[0m\u001b[1;33m,\u001b[0m \u001b[0msupport\u001b[0m\u001b[1;33m)\u001b[0m\u001b[1;33m\u001b[0m\u001b[0m\n\u001b[1;32m--> 129\u001b[1;33m   \u001b[0mocc\u001b[0m\u001b[1;33m,\u001b[0m \u001b[0mfreq\u001b[0m \u001b[1;33m=\u001b[0m \u001b[0mPassTwo\u001b[0m\u001b[1;33m(\u001b[0m\u001b[0mdata\u001b[0m\u001b[1;33m,\u001b[0m \u001b[0mfreq\u001b[0m\u001b[1;33m,\u001b[0m \u001b[0msupport\u001b[0m\u001b[1;33m)\u001b[0m\u001b[1;33m\u001b[0m\u001b[0m\n\u001b[0m\u001b[0;32m    130\u001b[0m   \u001b[1;32mif\u001b[0m \u001b[0mk\u001b[0m \u001b[1;33m>\u001b[0m \u001b[1;36m2\u001b[0m\u001b[1;33m:\u001b[0m\u001b[1;33m\u001b[0m\u001b[0m\n\u001b[0;32m    131\u001b[0m     \u001b[1;32mfor\u001b[0m \u001b[0mi\u001b[0m \u001b[1;32min\u001b[0m \u001b[0mrange\u001b[0m\u001b[1;33m(\u001b[0m\u001b[1;36m2\u001b[0m\u001b[1;33m,\u001b[0m \u001b[0mk\u001b[0m\u001b[1;33m)\u001b[0m\u001b[1;33m:\u001b[0m\u001b[1;33m\u001b[0m\u001b[0m\n",
      "\u001b[1;32mc:\\Users\\Calvin\\Desktop\\University\\Year 2\\Semester 2\\BigData\\lab_1_2_3_4_5\\apriori.py\u001b[0m in \u001b[0;36mPassTwo\u001b[1;34m(data, frequent_list, support)\u001b[0m\n\u001b[0;32m     50\u001b[0m           \u001b[1;31m# Initialize that pairs count to 1\u001b[0m\u001b[1;33m\u001b[0m\u001b[1;33m\u001b[0m\u001b[0m\n\u001b[0;32m     51\u001b[0m           \u001b[1;32mif\u001b[0m \u001b[0mitem_set\u001b[0m \u001b[1;32mnot\u001b[0m \u001b[1;32min\u001b[0m \u001b[0moccurences\u001b[0m\u001b[1;33m:\u001b[0m\u001b[1;33m\u001b[0m\u001b[0m\n\u001b[1;32m---> 52\u001b[1;33m             \u001b[0moccurences\u001b[0m\u001b[1;33m[\u001b[0m\u001b[0mitem_set\u001b[0m\u001b[1;33m]\u001b[0m \u001b[1;33m=\u001b[0m \u001b[1;36m1\u001b[0m\u001b[1;33m\u001b[0m\u001b[0m\n\u001b[0m\u001b[0;32m     53\u001b[0m           \u001b[1;31m# If the pair has been accounted for already\u001b[0m\u001b[1;33m\u001b[0m\u001b[1;33m\u001b[0m\u001b[0m\n\u001b[0;32m     54\u001b[0m           \u001b[1;31m# Add one to that pairs count\u001b[0m\u001b[1;33m\u001b[0m\u001b[1;33m\u001b[0m\u001b[0m\n",
      "\u001b[1;31mKeyboardInterrupt\u001b[0m: "
     ]
    }
   ],
   "source": [
    "support = 0.01\n",
    "s_t = time()\n",
    "occ_1, freq_1 = Apriori(netflix_40, support, 2)\n",
    "f_t = time()\n",
    "print(\"Time taken to perform Apriori pairs on 40%% of netflix data: %.2f seconds, with support %.2f%%\" % ((f_t - s_t), (support*100)))"
   ]
  },
  {
   "cell_type": "code",
   "execution_count": null,
   "metadata": {},
   "outputs": [],
   "source": [
    "netflix_returned = np.asarray(list((zip(freq_1,occ_1))))\n",
    "data1 = np.array([item[0] for item in data[:,0]])\n",
    "data2 = np.array([item[1] for item in data[:,0]])\n",
    "df_netflix = pd.DataFrame({'Item 1': data1, 'Item 2': data2, 'Support': data[:,-1] / len(retail_data)})"
   ]
  }
 ]
}