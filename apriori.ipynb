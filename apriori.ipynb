{
 "metadata": {
  "language_info": {
   "codemirror_mode": {
    "name": "ipython",
    "version": 3
   },
   "file_extension": ".py",
   "mimetype": "text/x-python",
   "name": "python",
   "nbconvert_exporter": "python",
   "pygments_lexer": "ipython3",
   "version": "3.7.0-final"
  },
  "orig_nbformat": 2,
  "kernelspec": {
   "name": "python3",
   "display_name": "Python 3.7.0 64-bit (conda)",
   "metadata": {
    "interpreter": {
     "hash": "cbb7e187236b00b7ded093dcc56893c8d346ec4edb708f0afe40db7bb88b5c34"
    }
   }
  }
 },
 "nbformat": 4,
 "nbformat_minor": 2,
 "cells": [
  {
   "cell_type": "code",
   "execution_count": 1,
   "metadata": {},
   "outputs": [],
   "source": [
    "from apriori import Apriori\n",
    "from helper import GetItemsetFromFile, SaveDataToFile, CreateSupportList, SaveDataFrameToHTMLFile, GetSubsectionOfData\n",
    "from time import time\n",
    "import pandas as pd\n",
    "import numpy as np"
   ]
  },
  {
   "cell_type": "code",
   "execution_count": 2,
   "metadata": {
    "tags": []
   },
   "outputs": [
    {
     "output_type": "stream",
     "name": "stdout",
     "text": [
      "Time taken to read retail data: 0.21 seconds\n"
     ]
    }
   ],
   "source": [
    "s_t = time()\n",
    "retail_data = GetItemsetFromFile(\"retail.data\")\n",
    "f_t = time()\n",
    "print(\"Time taken to read retail data: %.2f seconds\" % (f_t - s_t))"
   ]
  },
  {
   "cell_type": "code",
   "execution_count": 13,
   "metadata": {},
   "outputs": [],
   "source": [
    "support = 0.01"
   ]
  },
  {
   "cell_type": "code",
   "execution_count": 14,
   "metadata": {},
   "outputs": [
    {
     "output_type": "stream",
     "name": "stdout",
     "text": [
      "20% of 71064 is 14213\n"
     ]
    }
   ],
   "source": [
    "### 20% OF RETAIL DATA\n",
    "retail_20 = GetSubsectionOfData(retail_data, .2)"
   ]
  },
  {
   "cell_type": "code",
   "execution_count": 15,
   "metadata": {},
   "outputs": [
    {
     "output_type": "stream",
     "name": "stdout",
     "text": [
      "Reading line 0 of 14213\n",
      "Reading line 0 of 14213 in pass two\n",
      "Time taken to perform Apriori pairs on 20% of retail data: 1.17 seconds, with support 0.02\n"
     ]
    }
   ],
   "source": [
    "s_t = time()\n",
    "pair_occ, pair_freq = Apriori(retail_20, support, 2)\n",
    "f_t = time()\n",
    "print(\"Time taken to perform Apriori pairs on 20%% of retail data: %.2f seconds, with support %.2f\" % ((f_t - s_t), support))"
   ]
  },
  {
   "cell_type": "code",
   "execution_count": 16,
   "metadata": {},
   "outputs": [],
   "source": [
    "data = np.asarray(list((zip(pair_freq,pair_occ))))\n",
    "data1 = np.array([item[0] for item in data[:,0]])\n",
    "data2 = np.array([item[1] for item in data[:,0]])\n",
    "pair_df = pd.DataFrame({'Item 1': data1, 'Item 2': data2, 'Support': data[:,-1] / len(retail_data)})\n",
    "SaveDataFrameToHTMLFile(pair_df, \"apri-ret-p-20-5\")"
   ]
  },
  {
   "cell_type": "code",
   "execution_count": 17,
   "metadata": {},
   "outputs": [
    {
     "output_type": "stream",
     "name": "stdout",
     "text": [
      "40% of 71064 is 28426\n"
     ]
    }
   ],
   "source": [
    "### 40% OF RETAIL DATA\n",
    "retail_40 = GetSubsectionOfData(retail_data, .4)"
   ]
  },
  {
   "cell_type": "code",
   "execution_count": 18,
   "metadata": {},
   "outputs": [
    {
     "output_type": "stream",
     "name": "stdout",
     "text": [
      "Reading line 0 of 28426\n",
      "Reading line 0 of 28426 in pass two\n",
      "Time taken to perform Apriori pairs on 40% of retail data: 2.29 seconds, with support 0.02\n"
     ]
    }
   ],
   "source": [
    "s_t = time()\n",
    "pair_occ, pair_freq = Apriori(retail_40, support, 2)\n",
    "f_t = time()\n",
    "print(\"Time taken to perform Apriori pairs on 40%% of retail data: %.2f seconds, with support %.2f\" % ((f_t - s_t), support))"
   ]
  },
  {
   "cell_type": "code",
   "execution_count": 19,
   "metadata": {},
   "outputs": [],
   "source": [
    "data = np.asarray(list((zip(pair_freq,pair_occ))))\n",
    "data1 = np.array([item[0] for item in data[:,0]])\n",
    "data2 = np.array([item[1] for item in data[:,0]])\n",
    "pair_df = pd.DataFrame({'Item 1': data1, 'Item 2': data2, 'Support': data[:,-1] / len(retail_data)})\n",
    "SaveDataFrameToHTMLFile(pair_df, \"apri-ret-p-40-5\")"
   ]
  },
  {
   "cell_type": "code",
   "execution_count": 20,
   "metadata": {},
   "outputs": [],
   "source": [
    "### 100% OF DATA"
   ]
  },
  {
   "cell_type": "code",
   "execution_count": 21,
   "metadata": {
    "tags": []
   },
   "outputs": [
    {
     "output_type": "stream",
     "name": "stdout",
     "text": [
      "Reading line 0 of 71064\n",
      "Reading line 50000 of 71064\n",
      "Reading line 0 of 71064 in pass two\n",
      "Reading line 50000 of 71064 in pass two\n",
      "Time taken to perform Apriori pairs on 100% of retail data: 5.30 seconds, with support 0.02\n"
     ]
    }
   ],
   "source": [
    "s_t = time()\n",
    "pair_occ, pair_freq = Apriori(retail_data, support, 2)\n",
    "f_t = time()\n",
    "print(\"Time taken to perform Apriori pairs on 100%% of retail data: %.2f seconds, with support %.2f\" % ((f_t - s_t), support))"
   ]
  },
  {
   "cell_type": "code",
   "execution_count": 22,
   "metadata": {},
   "outputs": [],
   "source": [
    "data = np.asarray(list((zip(pair_freq,pair_occ))))\n",
    "data1 = np.array([item[0] for item in data[:,0]])\n",
    "data2 = np.array([item[1] for item in data[:,0]])\n",
    "pair_df = pd.DataFrame({'Item 1': data1, 'Item 2': data2, 'Support': data[:,-1] / len(retail_data)})\n",
    "SaveDataFrameToHTMLFile(pair_df, \"apri-ret-p-100-5\")"
   ]
  },
  {
   "cell_type": "code",
   "execution_count": null,
   "metadata": {},
   "outputs": [],
   "source": []
  },
  {
   "cell_type": "code",
   "execution_count": 4,
   "metadata": {},
   "outputs": [
    {
     "output_type": "stream",
     "name": "stdout",
     "text": [
      "Reading line 0 of 71064\n",
      "Reading line 50000 of 71064\n",
      "Reading line 0 of 71064 in pass two\n",
      "Reading line 50000 of 71064 in pass two\n",
      "Time taken to perform Apriori triples on retail data: 9.45 seconds, with support 0.01\n"
     ]
    }
   ],
   "source": [
    "s_t = time()\n",
    "triple_freq = Apriori(retail_data, support, 3)\n",
    "f_t = time()\n",
    "print(\"Time taken to perform Apriori triples on retail data: %.2f seconds, with support %.2f\" % ((f_t - s_t), support))"
   ]
  },
  {
   "cell_type": "code",
   "execution_count": 9,
   "metadata": {},
   "outputs": [],
   "source": [
    "triple_array = np.asarray([np.array(x) for x in triple_freq])\n",
    "triple_df = pd.DataFrame({'Item 1': triple_array[:,0], 'Item 2': triple_array[:,1], 'Item 3': triple_array[:,-1]})\n",
    "SaveDataFrameToHTMLFile(triple_df, \"retail_triples_fulldata_1_percent\")"
   ]
  },
  {
   "cell_type": "code",
   "execution_count": 6,
   "metadata": {},
   "outputs": [
    {
     "output_type": "execute_result",
     "data": {
      "text/plain": [
       "   Item 1 Item 2 Item 3\n",
       "0      36     38     39\n",
       "1      36     38     48\n",
       "2      36     39     48\n",
       "3      38     39     41\n",
       "4      38     39     48\n",
       "5      38     41     48\n",
       "6      39     41     48\n",
       "7      39     48     79\n",
       "8      39     48     89\n",
       "9      39     48     65\n",
       "10     39     48     60\n",
       "11     39    438     48\n",
       "12     39    475     48\n",
       "13     39    413     48\n",
       "14     32     39     41\n",
       "15     32     41     48\n",
       "16     32     38     41\n",
       "17    101     39     48\n",
       "18    110     38     39\n",
       "19    110     38     48\n",
       "20    110     39     48\n",
       "21    147     39     48\n",
       "22    170     38     39\n",
       "23    170     38     48\n",
       "24    170     39     48\n",
       "25     32     39     48\n",
       "26     32     38     39\n",
       "27     32     38     48\n",
       "28    237     39     48\n",
       "29    255     39     48\n",
       "30    225     39     48\n",
       "31    270     39     48\n",
       "32    271     39     48\n",
       "33    310     39     48\n",
       "34   1146     39     48\n",
       "35   1327     39     48\n",
       "36   2238     39     48"
      ],
      "text/html": "<div>\n<style scoped>\n    .dataframe tbody tr th:only-of-type {\n        vertical-align: middle;\n    }\n\n    .dataframe tbody tr th {\n        vertical-align: top;\n    }\n\n    .dataframe thead th {\n        text-align: right;\n    }\n</style>\n<table border=\"1\" class=\"dataframe\">\n  <thead>\n    <tr style=\"text-align: right;\">\n      <th></th>\n      <th>Item 1</th>\n      <th>Item 2</th>\n      <th>Item 3</th>\n    </tr>\n  </thead>\n  <tbody>\n    <tr>\n      <th>0</th>\n      <td>36</td>\n      <td>38</td>\n      <td>39</td>\n    </tr>\n    <tr>\n      <th>1</th>\n      <td>36</td>\n      <td>38</td>\n      <td>48</td>\n    </tr>\n    <tr>\n      <th>2</th>\n      <td>36</td>\n      <td>39</td>\n      <td>48</td>\n    </tr>\n    <tr>\n      <th>3</th>\n      <td>38</td>\n      <td>39</td>\n      <td>41</td>\n    </tr>\n    <tr>\n      <th>4</th>\n      <td>38</td>\n      <td>39</td>\n      <td>48</td>\n    </tr>\n    <tr>\n      <th>5</th>\n      <td>38</td>\n      <td>41</td>\n      <td>48</td>\n    </tr>\n    <tr>\n      <th>6</th>\n      <td>39</td>\n      <td>41</td>\n      <td>48</td>\n    </tr>\n    <tr>\n      <th>7</th>\n      <td>39</td>\n      <td>48</td>\n      <td>79</td>\n    </tr>\n    <tr>\n      <th>8</th>\n      <td>39</td>\n      <td>48</td>\n      <td>89</td>\n    </tr>\n    <tr>\n      <th>9</th>\n      <td>39</td>\n      <td>48</td>\n      <td>65</td>\n    </tr>\n    <tr>\n      <th>10</th>\n      <td>39</td>\n      <td>48</td>\n      <td>60</td>\n    </tr>\n    <tr>\n      <th>11</th>\n      <td>39</td>\n      <td>438</td>\n      <td>48</td>\n    </tr>\n    <tr>\n      <th>12</th>\n      <td>39</td>\n      <td>475</td>\n      <td>48</td>\n    </tr>\n    <tr>\n      <th>13</th>\n      <td>39</td>\n      <td>413</td>\n      <td>48</td>\n    </tr>\n    <tr>\n      <th>14</th>\n      <td>32</td>\n      <td>39</td>\n      <td>41</td>\n    </tr>\n    <tr>\n      <th>15</th>\n      <td>32</td>\n      <td>41</td>\n      <td>48</td>\n    </tr>\n    <tr>\n      <th>16</th>\n      <td>32</td>\n      <td>38</td>\n      <td>41</td>\n    </tr>\n    <tr>\n      <th>17</th>\n      <td>101</td>\n      <td>39</td>\n      <td>48</td>\n    </tr>\n    <tr>\n      <th>18</th>\n      <td>110</td>\n      <td>38</td>\n      <td>39</td>\n    </tr>\n    <tr>\n      <th>19</th>\n      <td>110</td>\n      <td>38</td>\n      <td>48</td>\n    </tr>\n    <tr>\n      <th>20</th>\n      <td>110</td>\n      <td>39</td>\n      <td>48</td>\n    </tr>\n    <tr>\n      <th>21</th>\n      <td>147</td>\n      <td>39</td>\n      <td>48</td>\n    </tr>\n    <tr>\n      <th>22</th>\n      <td>170</td>\n      <td>38</td>\n      <td>39</td>\n    </tr>\n    <tr>\n      <th>23</th>\n      <td>170</td>\n      <td>38</td>\n      <td>48</td>\n    </tr>\n    <tr>\n      <th>24</th>\n      <td>170</td>\n      <td>39</td>\n      <td>48</td>\n    </tr>\n    <tr>\n      <th>25</th>\n      <td>32</td>\n      <td>39</td>\n      <td>48</td>\n    </tr>\n    <tr>\n      <th>26</th>\n      <td>32</td>\n      <td>38</td>\n      <td>39</td>\n    </tr>\n    <tr>\n      <th>27</th>\n      <td>32</td>\n      <td>38</td>\n      <td>48</td>\n    </tr>\n    <tr>\n      <th>28</th>\n      <td>237</td>\n      <td>39</td>\n      <td>48</td>\n    </tr>\n    <tr>\n      <th>29</th>\n      <td>255</td>\n      <td>39</td>\n      <td>48</td>\n    </tr>\n    <tr>\n      <th>30</th>\n      <td>225</td>\n      <td>39</td>\n      <td>48</td>\n    </tr>\n    <tr>\n      <th>31</th>\n      <td>270</td>\n      <td>39</td>\n      <td>48</td>\n    </tr>\n    <tr>\n      <th>32</th>\n      <td>271</td>\n      <td>39</td>\n      <td>48</td>\n    </tr>\n    <tr>\n      <th>33</th>\n      <td>310</td>\n      <td>39</td>\n      <td>48</td>\n    </tr>\n    <tr>\n      <th>34</th>\n      <td>1146</td>\n      <td>39</td>\n      <td>48</td>\n    </tr>\n    <tr>\n      <th>35</th>\n      <td>1327</td>\n      <td>39</td>\n      <td>48</td>\n    </tr>\n    <tr>\n      <th>36</th>\n      <td>2238</td>\n      <td>39</td>\n      <td>48</td>\n    </tr>\n  </tbody>\n</table>\n</div>"
     },
     "metadata": {},
     "execution_count": 6
    }
   ],
   "source": [
    "triple_df"
   ]
  },
  {
   "cell_type": "code",
   "execution_count": null,
   "metadata": {},
   "outputs": [],
   "source": []
  },
  {
   "cell_type": "code",
   "execution_count": 2,
   "metadata": {},
   "outputs": [
    {
     "output_type": "stream",
     "name": "stdout",
     "text": [
      "Time taken to read netflix data: 14.03 seconds\n"
     ]
    }
   ],
   "source": [
    "s_t = time()\n",
    "netflix_data = GetItemsetFromFile(\"netflix.data\")\n",
    "f_t = time()\n",
    "print(\"Time taken to read netflix data: %.2f seconds\" % (f_t - s_t))"
   ]
  },
  {
   "cell_type": "code",
   "execution_count": 3,
   "metadata": {},
   "outputs": [
    {
     "output_type": "stream",
     "name": "stdout",
     "text": [
      "40% of 480188 is 192075\n"
     ]
    }
   ],
   "source": [
    "### 40% OF NETFLIX DATA\n",
    "netflix_40 = GetSubsectionOfData(netflix_data, .4)"
   ]
  },
  {
   "cell_type": "code",
   "execution_count": 4,
   "metadata": {},
   "outputs": [
    {
     "output_type": "stream",
     "name": "stdout",
     "text": [
      "Reading line 0 of 192075\n",
      "Reading line 50000 of 192075\n",
      "Reading line 100000 of 192075\n",
      "Reading line 150000 of 192075\n",
      "Reading line 0 of 192075 in pass two\n",
      "Reading line 1 of 192075 in pass two\n",
      "Reading line 2 of 192075 in pass two\n",
      "Reading line 3 of 192075 in pass two\n",
      "Reading line 4 of 192075 in pass two\n",
      "Reading line 5 of 192075 in pass two\n",
      "Reading line 6 of 192075 in pass two\n",
      "Reading line 7 of 192075 in pass two\n",
      "Reading line 8 of 192075 in pass two\n",
      "Reading line 9 of 192075 in pass two\n",
      "Reading line 10 of 192075 in pass two\n",
      "Reading line 11 of 192075 in pass two\n",
      "Reading line 12 of 192075 in pass two\n"
     ]
    },
    {
     "output_type": "error",
     "ename": "KeyboardInterrupt",
     "evalue": "",
     "traceback": [
      "\u001b[1;31m---------------------------------------------------------------------------\u001b[0m",
      "\u001b[1;31mKeyboardInterrupt\u001b[0m                         Traceback (most recent call last)",
      "\u001b[1;32m<ipython-input-4-7f3886293bff>\u001b[0m in \u001b[0;36m<module>\u001b[1;34m()\u001b[0m\n\u001b[0;32m      1\u001b[0m \u001b[0msupport\u001b[0m \u001b[1;33m=\u001b[0m \u001b[1;36m0.01\u001b[0m\u001b[1;33m\u001b[0m\u001b[0m\n\u001b[0;32m      2\u001b[0m \u001b[0ms_t\u001b[0m \u001b[1;33m=\u001b[0m \u001b[0mtime\u001b[0m\u001b[1;33m(\u001b[0m\u001b[1;33m)\u001b[0m\u001b[1;33m\u001b[0m\u001b[0m\n\u001b[1;32m----> 3\u001b[1;33m \u001b[0mocc_1\u001b[0m\u001b[1;33m,\u001b[0m \u001b[0mfreq_1\u001b[0m \u001b[1;33m=\u001b[0m \u001b[0mApriori\u001b[0m\u001b[1;33m(\u001b[0m\u001b[0mnetflix_40\u001b[0m\u001b[1;33m,\u001b[0m \u001b[0msupport\u001b[0m\u001b[1;33m,\u001b[0m \u001b[1;36m2\u001b[0m\u001b[1;33m)\u001b[0m\u001b[1;33m\u001b[0m\u001b[0m\n\u001b[0m\u001b[0;32m      4\u001b[0m \u001b[0mf_t\u001b[0m \u001b[1;33m=\u001b[0m \u001b[0mtime\u001b[0m\u001b[1;33m(\u001b[0m\u001b[1;33m)\u001b[0m\u001b[1;33m\u001b[0m\u001b[0m\n\u001b[0;32m      5\u001b[0m \u001b[0mprint\u001b[0m\u001b[1;33m(\u001b[0m\u001b[1;34m\"Time taken to perform Apriori pairs on 40%% of netflix data: %.2f seconds, with support %.2f%%\"\u001b[0m \u001b[1;33m%\u001b[0m \u001b[1;33m(\u001b[0m\u001b[1;33m(\u001b[0m\u001b[0mf_t\u001b[0m \u001b[1;33m-\u001b[0m \u001b[0ms_t\u001b[0m\u001b[1;33m)\u001b[0m\u001b[1;33m,\u001b[0m \u001b[1;33m(\u001b[0m\u001b[0msupport\u001b[0m\u001b[1;33m*\u001b[0m\u001b[1;36m100\u001b[0m\u001b[1;33m)\u001b[0m\u001b[1;33m)\u001b[0m\u001b[1;33m)\u001b[0m\u001b[1;33m\u001b[0m\u001b[0m\n",
      "\u001b[1;32mc:\\Users\\Calvin\\Desktop\\University\\Year 2\\Semester 2\\BigData\\lab_1_2_3_4_5\\apriori.py\u001b[0m in \u001b[0;36mApriori\u001b[1;34m(data, support, k)\u001b[0m\n\u001b[0;32m    127\u001b[0m \u001b[1;32mdef\u001b[0m \u001b[0mApriori\u001b[0m\u001b[1;33m(\u001b[0m\u001b[0mdata\u001b[0m\u001b[1;33m,\u001b[0m \u001b[0msupport\u001b[0m\u001b[1;33m,\u001b[0m \u001b[0mk\u001b[0m\u001b[1;33m)\u001b[0m\u001b[1;33m:\u001b[0m\u001b[1;33m\u001b[0m\u001b[0m\n\u001b[0;32m    128\u001b[0m   \u001b[0mocc\u001b[0m\u001b[1;33m,\u001b[0m \u001b[0mfreq\u001b[0m \u001b[1;33m=\u001b[0m \u001b[0mPassOne\u001b[0m\u001b[1;33m(\u001b[0m\u001b[0mdata\u001b[0m\u001b[1;33m,\u001b[0m \u001b[0msupport\u001b[0m\u001b[1;33m)\u001b[0m\u001b[1;33m\u001b[0m\u001b[0m\n\u001b[1;32m--> 129\u001b[1;33m   \u001b[0mocc\u001b[0m\u001b[1;33m,\u001b[0m \u001b[0mfreq\u001b[0m \u001b[1;33m=\u001b[0m \u001b[0mPassTwo\u001b[0m\u001b[1;33m(\u001b[0m\u001b[0mdata\u001b[0m\u001b[1;33m,\u001b[0m \u001b[0mfreq\u001b[0m\u001b[1;33m,\u001b[0m \u001b[0msupport\u001b[0m\u001b[1;33m)\u001b[0m\u001b[1;33m\u001b[0m\u001b[0m\n\u001b[0m\u001b[0;32m    130\u001b[0m   \u001b[1;32mif\u001b[0m \u001b[0mk\u001b[0m \u001b[1;33m>\u001b[0m \u001b[1;36m2\u001b[0m\u001b[1;33m:\u001b[0m\u001b[1;33m\u001b[0m\u001b[0m\n\u001b[0;32m    131\u001b[0m     \u001b[1;32mfor\u001b[0m \u001b[0mi\u001b[0m \u001b[1;32min\u001b[0m \u001b[0mrange\u001b[0m\u001b[1;33m(\u001b[0m\u001b[1;36m2\u001b[0m\u001b[1;33m,\u001b[0m \u001b[0mk\u001b[0m\u001b[1;33m)\u001b[0m\u001b[1;33m:\u001b[0m\u001b[1;33m\u001b[0m\u001b[0m\n",
      "\u001b[1;32mc:\\Users\\Calvin\\Desktop\\University\\Year 2\\Semester 2\\BigData\\lab_1_2_3_4_5\\apriori.py\u001b[0m in \u001b[0;36mPassTwo\u001b[1;34m(data, frequent_list, support)\u001b[0m\n\u001b[0;32m     50\u001b[0m           \u001b[1;31m# Initialize that pairs count to 1\u001b[0m\u001b[1;33m\u001b[0m\u001b[1;33m\u001b[0m\u001b[0m\n\u001b[0;32m     51\u001b[0m           \u001b[1;32mif\u001b[0m \u001b[0mitem_set\u001b[0m \u001b[1;32mnot\u001b[0m \u001b[1;32min\u001b[0m \u001b[0moccurences\u001b[0m\u001b[1;33m:\u001b[0m\u001b[1;33m\u001b[0m\u001b[0m\n\u001b[1;32m---> 52\u001b[1;33m             \u001b[0moccurences\u001b[0m\u001b[1;33m[\u001b[0m\u001b[0mitem_set\u001b[0m\u001b[1;33m]\u001b[0m \u001b[1;33m=\u001b[0m \u001b[1;36m1\u001b[0m\u001b[1;33m\u001b[0m\u001b[0m\n\u001b[0m\u001b[0;32m     53\u001b[0m           \u001b[1;31m# If the pair has been accounted for already\u001b[0m\u001b[1;33m\u001b[0m\u001b[1;33m\u001b[0m\u001b[0m\n\u001b[0;32m     54\u001b[0m           \u001b[1;31m# Add one to that pairs count\u001b[0m\u001b[1;33m\u001b[0m\u001b[1;33m\u001b[0m\u001b[0m\n",
      "\u001b[1;31mKeyboardInterrupt\u001b[0m: "
     ]
    }
   ],
   "source": [
    "support = 0.01\n",
    "s_t = time()\n",
    "occ_1, freq_1 = Apriori(netflix_40, support, 2)\n",
    "f_t = time()\n",
    "print(\"Time taken to perform Apriori pairs on 40%% of netflix data: %.2f seconds, with support %.2f%%\" % ((f_t - s_t), (support*100)))"
   ]
  },
  {
   "cell_type": "code",
   "execution_count": null,
   "metadata": {},
   "outputs": [],
   "source": [
    "netflix_returned = np.asarray(list((zip(freq_1,occ_1))))\n",
    "data1 = np.array([item[0] for item in data[:,0]])\n",
    "data2 = np.array([item[1] for item in data[:,0]])\n",
    "df_netflix = pd.DataFrame({'Item 1': data1, 'Item 2': data2, 'Support': data[:,-1] / len(retail_data)})"
   ]
  }
 ]
}