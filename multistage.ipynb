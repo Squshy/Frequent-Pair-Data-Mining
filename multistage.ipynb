{
 "metadata": {
  "language_info": {
   "codemirror_mode": {
    "name": "ipython",
    "version": 3
   },
   "file_extension": ".py",
   "mimetype": "text/x-python",
   "name": "python",
   "nbconvert_exporter": "python",
   "pygments_lexer": "ipython3",
   "version": "3.7.0-final"
  },
  "orig_nbformat": 2,
  "kernelspec": {
   "name": "python3",
   "display_name": "Python 3.7.0 64-bit (conda)",
   "metadata": {
    "interpreter": {
     "hash": "cbb7e187236b00b7ded093dcc56893c8d346ec4edb708f0afe40db7bb88b5c34"
    }
   }
  }
 },
 "nbformat": 4,
 "nbformat_minor": 2,
 "cells": [
  {
   "cell_type": "code",
   "execution_count": 1,
   "metadata": {},
   "outputs": [],
   "source": [
    "import numpy as np\n",
    "import pandas as pd\n",
    "import math\n",
    "from mutlistage import MultistagePCY\n",
    "from time import time\n",
    "from helper import GetItemsetFromFile, GetSubsectionOfData, SplitDataIntoChunks, PrintTimeInfo, CreatePairDataFrame, SaveDataFrameToHTMLFile, CreateTripleDataFrame"
   ]
  },
  {
   "cell_type": "code",
   "execution_count": 2,
   "metadata": {},
   "outputs": [],
   "source": [
    "# Get Retail data"
   ]
  },
  {
   "cell_type": "code",
   "execution_count": 3,
   "metadata": {},
   "outputs": [
    {
     "output_type": "stream",
     "name": "stdout",
     "text": [
      "Time taken to read retail data: 0.21 seconds\n"
     ]
    }
   ],
   "source": [
    "s_t = time()\n",
    "retail_data = GetItemsetFromFile(\"retail.data\")\n",
    "f_t = time()\n",
    "print(\"Time taken to read retail data: %.2f seconds\" % (f_t - s_t))"
   ]
  },
  {
   "cell_type": "code",
   "execution_count": 4,
   "metadata": {},
   "outputs": [],
   "source": [
    "support_values = [0.01, 0.02, 0.05]\n",
    "split_data_values = [0.2, 0.4, 1]"
   ]
  },
  {
   "cell_type": "code",
   "execution_count": 5,
   "metadata": {
    "tags": []
   },
   "outputs": [
    {
     "output_type": "stream",
     "name": "stdout",
     "text": [
      "Time taken to complete MultistagePCY on 20% of data using pairs of retail data: 8.20 seconds with support: 1%\n",
      "Time taken to complete MultistagePCY on 20% of data using pairs of retail data: 4.95 seconds with support: 2%\n",
      "Time taken to complete MultistagePCY on 20% of data using pairs of retail data: 3.72 seconds with support: 5%\n",
      "Done running MultistagePCY pairs on 20% of data\n",
      "\n",
      "Time taken to complete MultistagePCY on 40% of data using pairs of retail data: 15.48 seconds with support: 1%\n",
      "Time taken to complete MultistagePCY on 40% of data using pairs of retail data: 9.60 seconds with support: 2%\n",
      "Time taken to complete MultistagePCY on 40% of data using pairs of retail data: 7.62 seconds with support: 5%\n",
      "Done running MultistagePCY pairs on 40% of data\n",
      "\n",
      "Time taken to complete MultistagePCY on 100% of data using pairs of retail data: 40.24 seconds with support: 1%\n",
      "Time taken to complete MultistagePCY on 100% of data using pairs of retail data: 27.66 seconds with support: 2%\n",
      "Time taken to complete MultistagePCY on 100% of data using pairs of retail data: 18.70 seconds with support: 5%\n",
      "Done running MultistagePCY pairs on 100% of data\n",
      "\n"
     ]
    }
   ],
   "source": [
    "# Perfom MultistagePCY on pairs of data for all support values and split data values\n",
    "for data_split in split_data_values:\n",
    "    for support in support_values:\n",
    "        data = GetSubsectionOfData(retail_data, data_split) # Get % of data\n",
    "        file_name = \"mutli-pcy-ret-p-\"+str(round(data_split*100))+\"-\" + str(round(support*100))   # Set file name\n",
    "\n",
    "        s_t = time()    # Start Time\n",
    "        occ, freq = MultistagePCY(data, support, 2)\n",
    "        f_t = time()    # End Time\n",
    "        PrintTimeInfo(\"MultistagePCY\", (data_split * 100), (f_t - s_t), support, \"pairs\")\n",
    "        df = CreatePairDataFrame(occ, freq, len(data))\n",
    "        SaveDataFrameToHTMLFile(df, file_name)\n",
    "    print(\"Done running MultistagePCY pairs on %d%% of data\" % (data_split * 100)+\"\\n\")"
   ]
  },
  {
   "cell_type": "code",
   "execution_count": 6,
   "metadata": {},
   "outputs": [
    {
     "output_type": "stream",
     "name": "stdout",
     "text": [
      "Time taken to complete MultistagePCY on 20% of data using triples of retail data: 7.20 seconds with support: 1%\n",
      "Time taken to complete MultistagePCY on 20% of data using triples of retail data: 4.56 seconds with support: 2%\n",
      "Time taken to complete MultistagePCY on 20% of data using triples of retail data: 3.66 seconds with support: 5%\n",
      "Done running MultistagePCY triples on 20% of data\n",
      "\n",
      "Time taken to complete MultistagePCY on 40% of data using triples of retail data: 15.30 seconds with support: 1%\n",
      "Time taken to complete MultistagePCY on 40% of data using triples of retail data: 9.72 seconds with support: 2%\n",
      "Time taken to complete MultistagePCY on 40% of data using triples of retail data: 7.66 seconds with support: 5%\n",
      "Done running MultistagePCY triples on 40% of data\n",
      "\n",
      "Time taken to complete MultistagePCY on 100% of data using triples of retail data: 38.14 seconds with support: 1%\n",
      "Time taken to complete MultistagePCY on 100% of data using triples of retail data: 23.73 seconds with support: 2%\n",
      "Time taken to complete MultistagePCY on 100% of data using triples of retail data: 18.96 seconds with support: 5%\n",
      "Done running MultistagePCY triples on 100% of data\n",
      "\n"
     ]
    }
   ],
   "source": [
    "# Perfom MultistagePCY on triples of data for all support values and split data values\n",
    "for data_split in split_data_values:\n",
    "    for support in support_values:\n",
    "        data = GetSubsectionOfData(retail_data, data_split) # Get % of data\n",
    "        file_name = \"mutli-pcy-ret-t-\"+str(round(data_split*100))+\"-\" + str(round(support*100))   # Set file name\n",
    "\n",
    "        s_t = time()    # Start Time\n",
    "        freq = MultistagePCY(data, support, 3)\n",
    "        f_t = time()    # End Time\n",
    "        PrintTimeInfo(\"MultistagePCY\", (data_split * 100), (f_t - s_t), support, \"triples\")\n",
    "        df = CreateTripleDataFrame(freq)\n",
    "        SaveDataFrameToHTMLFile(df, file_name)\n",
    "    print(\"Done running MultistagePCY triples on %d%% of data\" % (data_split * 100)+\"\\n\")"
   ]
  }
 ]
}