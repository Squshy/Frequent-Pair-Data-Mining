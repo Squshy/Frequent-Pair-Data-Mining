{
 "metadata": {
  "language_info": {
   "codemirror_mode": {
    "name": "ipython",
    "version": 3
   },
   "file_extension": ".py",
   "mimetype": "text/x-python",
   "name": "python",
   "nbconvert_exporter": "python",
   "pygments_lexer": "ipython3",
   "version": "3.7.0-final"
  },
  "orig_nbformat": 2,
  "kernelspec": {
   "name": "python3",
   "display_name": "Python 3.7.0 64-bit (conda)",
   "metadata": {
    "interpreter": {
     "hash": "cbb7e187236b00b7ded093dcc56893c8d346ec4edb708f0afe40db7bb88b5c34"
    }
   }
  }
 },
 "nbformat": 4,
 "nbformat_minor": 2,
 "cells": [
  {
   "cell_type": "code",
   "execution_count": 1,
   "metadata": {},
   "outputs": [],
   "source": [
    "import numpy as np\n",
    "import pandas as pd\n",
    "from time import time\n",
    "from pcy import PCY\n",
    "from helper import GetItemsetFromFile, PrintTimeInfo, SaveDataFrameToHTMLFile, SaveDataFrameToHTMLFile, CreateTripleDataFrame, GetSubsectionOfData, CreatePairDataFrame"
   ]
  },
  {
   "cell_type": "code",
   "execution_count": 2,
   "metadata": {},
   "outputs": [],
   "source": [
    "# Get Retail Data"
   ]
  },
  {
   "cell_type": "code",
   "execution_count": 3,
   "metadata": {},
   "outputs": [
    {
     "output_type": "stream",
     "name": "stdout",
     "text": [
      "Time taken to read retail data: 0.20 seconds\n"
     ]
    }
   ],
   "source": [
    "s_t = time()\n",
    "retail_data = GetItemsetFromFile(\"retail.data\")\n",
    "f_t = time()\n",
    "print(\"Time taken to read retail data: %.2f seconds\" % (f_t - s_t))"
   ]
  },
  {
   "cell_type": "code",
   "execution_count": 4,
   "metadata": {},
   "outputs": [],
   "source": [
    "support_values = [0.01, 0.02, 0.05]\n",
    "split_data_values = [0.2, 0.4, 1]"
   ]
  },
  {
   "cell_type": "code",
   "execution_count": 5,
   "metadata": {},
   "outputs": [
    {
     "output_type": "stream",
     "name": "stdout",
     "text": [
      "Time taken to complete PCY on 20% of data using pairs of retail data: 4.75 seconds with support: 1%\n",
      "Time taken to complete PCY on 20% of data using pairs of retail data: 3.43 seconds with support: 2%\n",
      "Time taken to complete PCY on 20% of data using pairs of retail data: 2.99 seconds with support: 5%\n",
      "Done running PCY pairs on 20% of data\n",
      "\n",
      "Time taken to complete PCY on 40% of data using pairs of retail data: 9.25 seconds with support: 1%\n",
      "Time taken to complete PCY on 40% of data using pairs of retail data: 6.14 seconds with support: 2%\n",
      "Time taken to complete PCY on 40% of data using pairs of retail data: 5.41 seconds with support: 5%\n",
      "Done running PCY pairs on 40% of data\n",
      "\n",
      "Time taken to complete PCY on 100% of data using pairs of retail data: 24.99 seconds with support: 1%\n",
      "Time taken to complete PCY on 100% of data using pairs of retail data: 19.27 seconds with support: 2%\n",
      "Time taken to complete PCY on 100% of data using pairs of retail data: 14.11 seconds with support: 5%\n",
      "Done running PCY pairs on 100% of data\n",
      "\n"
     ]
    }
   ],
   "source": [
    "# Perfom PCY on pairs of data for all support values and split data values\n",
    "for data_split in split_data_values:\n",
    "    for support in support_values:\n",
    "        data = GetSubsectionOfData(retail_data, data_split) # Get % of data\n",
    "        file_name = \"pcy-ret-p-\"+str(round(data_split*100))+\"-\" + str(round(support*100))   # Set file name\n",
    "\n",
    "        s_t = time()    # Start Time\n",
    "        occ, freq = PCY(data, support, 2)\n",
    "        f_t = time()    # End Time\n",
    "        PrintTimeInfo(\"PCY\", (data_split * 100), (f_t - s_t), support, \"pairs\")\n",
    "        df = CreatePairDataFrame(occ, freq, len(data))\n",
    "        SaveDataFrameToHTMLFile(df, file_name)\n",
    "    print(\"Done running PCY pairs on %d%% of data\" % (data_split * 100)+\"\\n\")"
   ]
  },
  {
   "cell_type": "code",
   "execution_count": 6,
   "metadata": {},
   "outputs": [
    {
     "output_type": "stream",
     "name": "stdout",
     "text": [
      "Time taken to complete PCY on 20% of data using triples of retail data: 4.52 seconds with support: 1%\n",
      "Time taken to complete PCY on 20% of data using triples of retail data: 3.15 seconds with support: 2%\n",
      "Time taken to complete PCY on 20% of data using triples of retail data: 2.64 seconds with support: 5%\n",
      "Done running PCY triples on 20% of data\n",
      "\n",
      "Time taken to complete PCY on 40% of data using triples of retail data: 8.98 seconds with support: 1%\n",
      "Time taken to complete PCY on 40% of data using triples of retail data: 6.40 seconds with support: 2%\n",
      "Time taken to complete PCY on 40% of data using triples of retail data: 5.40 seconds with support: 5%\n",
      "Done running PCY triples on 40% of data\n",
      "\n",
      "Time taken to complete PCY on 100% of data using triples of retail data: 22.80 seconds with support: 1%\n",
      "Time taken to complete PCY on 100% of data using triples of retail data: 16.92 seconds with support: 2%\n",
      "Time taken to complete PCY on 100% of data using triples of retail data: 14.46 seconds with support: 5%\n",
      "Done running PCY triples on 100% of data\n",
      "\n"
     ]
    }
   ],
   "source": [
    "# Perfom PCY on triples of data for all support values and split data values\n",
    "for data_split in split_data_values:\n",
    "    for support in support_values:\n",
    "        data = GetSubsectionOfData(retail_data, data_split) # Get % of data\n",
    "        file_name = \"pcy-ret-t-\"+str(round(data_split*100))+\"-\" + str(round(support*100))   # Set file name\n",
    "\n",
    "        s_t = time()    # Start Time\n",
    "        freq = PCY(data, support, 3)\n",
    "        f_t = time()    # End Time\n",
    "        PrintTimeInfo(\"PCY\", (data_split * 100), (f_t - s_t), support, \"triples\")\n",
    "        df = CreateTripleDataFrame(freq)\n",
    "        SaveDataFrameToHTMLFile(df, file_name)\n",
    "    print(\"Done running PCY triples on %d%% of data\" % (data_split * 100)+\"\\n\")"
   ]
  },
  {
   "cell_type": "code",
   "execution_count": null,
   "metadata": {},
   "outputs": [],
   "source": []
  }
 ]
}