{
 "metadata": {
  "language_info": {
   "codemirror_mode": {
    "name": "ipython",
    "version": 3
   },
   "file_extension": ".py",
   "mimetype": "text/x-python",
   "name": "python",
   "nbconvert_exporter": "python",
   "pygments_lexer": "ipython3",
   "version": "3.7.0-final"
  },
  "orig_nbformat": 2,
  "kernelspec": {
   "name": "python3",
   "display_name": "Python 3.7.0 64-bit (conda)",
   "metadata": {
    "interpreter": {
     "hash": "cbb7e187236b00b7ded093dcc56893c8d346ec4edb708f0afe40db7bb88b5c34"
    }
   }
  }
 },
 "nbformat": 4,
 "nbformat_minor": 2,
 "cells": [
  {
   "cell_type": "code",
   "execution_count": 1,
   "metadata": {},
   "outputs": [],
   "source": [
    "import sys\n",
    "import numpy as np\n",
    "import pandas as pd\n",
    "from time import time\n",
    "from pcy import PCY\n",
    "from helper import GetItemsetFromFile"
   ]
  },
  {
   "cell_type": "code",
   "execution_count": 2,
   "metadata": {},
   "outputs": [],
   "source": [
    "# Get Retail Data"
   ]
  },
  {
   "cell_type": "code",
   "execution_count": 3,
   "metadata": {},
   "outputs": [
    {
     "output_type": "stream",
     "name": "stdout",
     "text": [
      "Time taken to read retail data: 0.22 seconds\n"
     ]
    }
   ],
   "source": [
    "s_t = time()\n",
    "retail_data = GetItemsetFromFile(\"retail.data\")\n",
    "f_t = time()\n",
    "print(\"Time taken to read retail data: %.2f seconds\" % (f_t - s_t))"
   ]
  },
  {
   "cell_type": "code",
   "execution_count": 7,
   "metadata": {},
   "outputs": [],
   "source": [
    "support = 0.01"
   ]
  },
  {
   "cell_type": "code",
   "execution_count": 6,
   "metadata": {
    "tags": []
   },
   "outputs": [
    {
     "output_type": "stream",
     "name": "stdout",
     "text": [
      "Reading line 0 of 71064\n",
      "Reading line 50000 of 71064\n",
      "Time taken to complete PCY on 100% of retail data: 0.22 seconds\n"
     ]
    }
   ],
   "source": [
    "s_time = time()\n",
    "freq = PCY(retail_data, support, 2)\n",
    "f_time = time()\n",
    "print(\"Time taken to complete PCY on 100%% of retail data: %.2f seconds with support: %d%%\" % ((f_t - s_t), (support * 100)))"
   ]
  },
  {
   "cell_type": "code",
   "execution_count": 5,
   "metadata": {},
   "outputs": [
    {
     "output_type": "execute_result",
     "data": {
      "text/plain": [
       "[('36', '38'),\n",
       " ('36', '39'),\n",
       " ('37', '38'),\n",
       " ('38', '39'),\n",
       " ('38', '41'),\n",
       " ('39', '41'),\n",
       " ('38', '48'),\n",
       " ('39', '48'),\n",
       " ('32', '41'),\n",
       " ('39', '79'),\n",
       " ('36', '48'),\n",
       " ('41', '48'),\n",
       " ('48', '79'),\n",
       " ('39', '89'),\n",
       " ('101', '39'),\n",
       " ('48', '89'),\n",
       " ('101', '48'),\n",
       " ('110', '38'),\n",
       " ('110', '39'),\n",
       " ('147', '39'),\n",
       " ('147', '48'),\n",
       " ('170', '38'),\n",
       " ('170', '39'),\n",
       " ('170', '48'),\n",
       " ('32', '39'),\n",
       " ('32', '48'),\n",
       " ('32', '38'),\n",
       " ('39', '65'),\n",
       " ('237', '39'),\n",
       " ('48', '65'),\n",
       " ('255', '39'),\n",
       " ('255', '48'),\n",
       " ('225', '39'),\n",
       " ('270', '39'),\n",
       " ('271', '39'),\n",
       " ('237', '48'),\n",
       " ('286', '38'),\n",
       " ('310', '39'),\n",
       " ('39', '60'),\n",
       " ('48', '60'),\n",
       " ('413', '48'),\n",
       " ('39', '438'),\n",
       " ('438', '48'),\n",
       " ('39', '475'),\n",
       " ('475', '48'),\n",
       " ('225', '48'),\n",
       " ('270', '48'),\n",
       " ('310', '48'),\n",
       " ('110', '48'),\n",
       " ('39', '533'),\n",
       " ('1146', '39'),\n",
       " ('1146', '48'),\n",
       " ('271', '48'),\n",
       " ('1327', '39'),\n",
       " ('1327', '48'),\n",
       " ('39', '413'),\n",
       " ('2238', '48'),\n",
       " ('2238', '39')]"
      ]
     },
     "metadata": {},
     "execution_count": 5
    }
   ],
   "source": [
    "freq"
   ]
  },
  {
   "cell_type": "code",
   "execution_count": null,
   "metadata": {},
   "outputs": [],
   "source": []
  }
 ]
}