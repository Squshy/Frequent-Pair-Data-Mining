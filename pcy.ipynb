{
 "metadata": {
  "language_info": {
   "codemirror_mode": {
    "name": "ipython",
    "version": 3
   },
   "file_extension": ".py",
   "mimetype": "text/x-python",
   "name": "python",
   "nbconvert_exporter": "python",
   "pygments_lexer": "ipython3",
   "version": "3.7.0-final"
  },
  "orig_nbformat": 2,
  "kernelspec": {
   "name": "python3",
   "display_name": "Python 3.7.0 64-bit (conda)",
   "metadata": {
    "interpreter": {
     "hash": "cbb7e187236b00b7ded093dcc56893c8d346ec4edb708f0afe40db7bb88b5c34"
    }
   }
  }
 },
 "nbformat": 4,
 "nbformat_minor": 2,
 "cells": [
  {
   "cell_type": "code",
   "execution_count": 1,
   "metadata": {},
   "outputs": [],
   "source": [
    "import sys\n",
    "import numpy as np\n",
    "import pandas as pd\n",
    "from time import time\n",
    "from pcy import PCY\n",
    "from helper import GetItemsetFromFile"
   ]
  },
  {
   "cell_type": "code",
   "execution_count": 2,
   "metadata": {},
   "outputs": [],
   "source": [
    "# Get Retail Data"
   ]
  },
  {
   "cell_type": "code",
   "execution_count": 3,
   "metadata": {},
   "outputs": [
    {
     "output_type": "stream",
     "name": "stdout",
     "text": [
      "Time taken to read retail data: 0.21 seconds\n"
     ]
    }
   ],
   "source": [
    "s_t = time()\n",
    "retail_data = GetItemsetFromFile(\"retail.data\")\n",
    "f_t = time()\n",
    "print(\"Time taken to read retail data: %.2f seconds\" % (f_t - s_t))"
   ]
  },
  {
   "cell_type": "code",
   "execution_count": 5,
   "metadata": {
    "tags": []
   },
   "outputs": [
    {
     "output_type": "stream",
     "name": "stdout",
     "text": [
      "Reading line 0 of 71064\n",
      "Reading line 50000 of 71064\n",
      "{0: 1, 52: 1, 351: 1, 432: 1, 1368: 1, 1404: 1, 1406: 1, 1443: 1, 1480: 1, 1482: 1, 1558: 1, 1599: 1, 1824: 1, 1872: 1, 2090: 1, 1911: 1, 2352: 1, 2496: 1, 2964: 1, 1312: 1, 4290: 1, 3042: 1, 3081: 1, 1728: 1, 2880: 1, 3120: 1, 1968: 1, 3239: 1, 3792: 1, 3471: 1, 3744: 1, 3939: 1, 4272: 1, 4848: 1, 8550: 1, 9114: 1, 9212: 1, 3382: 1, 4017: 1, 4173: 1, 4264: 1, 4180: 1, 4510: 1, 14880: 1, 5616: 1, 5733: 1, 7056: 1, 21024: 1, 5904: 1, 6460: 1, 6630: 1, 8112: 1, 8160: 1, 1248: 1, 1536: 1, 6825: 1, 1216: 1, 11440: 1, 7215: 1, 7106: 1, 7839: 1, 2535: 1, 10992: 1, 9243: 1, 9711: 1, 9945: 1, 9984: 1, 12240: 1, 20358: 1, 8775: 1, 10296: 1, 10530: 1, 10569: 1, 11376: 1, 10868: 1, 11154: 1, 13728: 1, 6040: 1, 12090: 1, 6279: 1, 16224: 1, 1776: 1, 14098: 1, 2340: 1, 2665: 1, 12672: 1, 19824: 1, 2080: 1, 2906: 1, 17082: 1, 21216: 1, 18525: 1, 6970: 1, 9225: 1, 10800: 1, 12960: 1, 3736: 1, 9648: 1, 4984: 1, 2848: 1, 5553: 1, 19475: 1, 15448: 1, 1768: 1, 7096: 1, 2236: 1, 15171: 1, 4797: 1, 5280: 1, 7672: 1, 5083: 1, 20787: 1, 11739: 1, 13182: 1, 7200: 1, 741: 1, 7540: 1, 14200: 1, 2055: 1, 369: 1, 1209: 1, 9217: 1, 16264: 1, 16744: 1, 10816: 1, 18232: 1, 19288: 1, 20865: 1, 18681: 1, 1651: 1, 15808: 1, 11176: 1, 16243: 1, 9777: 1, 2143: 1, 12369: 1, 21057: 1, 13008: 1, 8880: 1, 554: 1, 19720: 1, 11688: 1, 11768: 1, 12710: 1, 2470: 1, 16107: 1, 7787: 1, 13733: 1, 14068: 1, 827: 1, 2005: 1}\n"
     ]
    }
   ],
   "source": [
    "freq = PCY(retail_data, 0.01, 2)"
   ]
  },
  {
   "cell_type": "code",
   "execution_count": 11,
   "metadata": {},
   "outputs": [
    {
     "output_type": "execute_result",
     "data": {
      "text/plain": [
       "28"
      ]
     },
     "metadata": {},
     "execution_count": 11
    }
   ],
   "source": []
  },
  {
   "cell_type": "code",
   "execution_count": null,
   "metadata": {},
   "outputs": [],
   "source": []
  }
 ]
}