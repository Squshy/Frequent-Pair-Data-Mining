{
 "metadata": {
  "language_info": {
   "codemirror_mode": {
    "name": "ipython",
    "version": 3
   },
   "file_extension": ".py",
   "mimetype": "text/x-python",
   "name": "python",
   "nbconvert_exporter": "python",
   "pygments_lexer": "ipython3",
   "version": "3.7.0-final"
  },
  "orig_nbformat": 2,
  "kernelspec": {
   "name": "python3",
   "display_name": "Python 3.7.0 64-bit (conda)",
   "metadata": {
    "interpreter": {
     "hash": "cbb7e187236b00b7ded093dcc56893c8d346ec4edb708f0afe40db7bb88b5c34"
    }
   }
  }
 },
 "nbformat": 4,
 "nbformat_minor": 2,
 "cells": [
  {
   "cell_type": "code",
   "execution_count": 1,
   "metadata": {},
   "outputs": [],
   "source": [
    "import numpy as np\n",
    "import pandas as pd\n",
    "from apriori import Apriori\n",
    "from time import time\n",
    "from helper import GetItemsetFromFile, GetSubsectionOfData, PrintTimeInfo, CreatePairDataFrame"
   ]
  },
  {
   "cell_type": "code",
   "execution_count": 2,
   "metadata": {},
   "outputs": [
    {
     "output_type": "stream",
     "name": "stdout",
     "text": [
      "Time taken to read retail data: 0.19 seconds\n"
     ]
    }
   ],
   "source": [
    "# Get the retail data set\n",
    "s_t = time()\n",
    "retail_data = GetItemsetFromFile(\"retail.data\")\n",
    "f_t = time()\n",
    "print(\"Time taken to read retail data: %.2f seconds\" % (f_t - s_t))"
   ]
  },
  {
   "cell_type": "code",
   "execution_count": 3,
   "metadata": {},
   "outputs": [],
   "source": [
    "support_thresholds = [0.01, 0.02, 0.05]\n",
    "data_sizes = [0.25, 0.33, 0.65]"
   ]
  },
  {
   "cell_type": "code",
   "execution_count": 4,
   "metadata": {},
   "outputs": [
    {
     "output_type": "stream",
     "name": "stdout",
     "text": [
      "Time taken to complete Random Sampled Apriori on 25% of data using pairs of retail data: 21.62 seconds with support: 0%\n",
      "Time taken to complete Random Sampled Apriori on 25% of data using pairs of retail data: 7.65 seconds with support: 0%\n",
      "Time taken to complete Random Sampled Apriori on 25% of data using pairs of retail data: 2.72 seconds with support: 1%\n",
      "Time taken to complete Random Sampled Apriori on 33% of data using pairs of retail data: 17.31 seconds with support: 0%\n",
      "Time taken to complete Random Sampled Apriori on 33% of data using pairs of retail data: 7.70 seconds with support: 0%\n",
      "Time taken to complete Random Sampled Apriori on 33% of data using pairs of retail data: 2.56 seconds with support: 1%\n",
      "Time taken to complete Random Sampled Apriori on 65% of data using pairs of retail data: 13.53 seconds with support: 0%\n",
      "Time taken to complete Random Sampled Apriori on 65% of data using pairs of retail data: 5.49 seconds with support: 1%\n",
      "Time taken to complete Random Sampled Apriori on 65% of data using pairs of retail data: 3.31 seconds with support: 3%\n"
     ]
    }
   ],
   "source": [
    "# Run Apriori pairs with Random Sampling on 3 support threshholds and 3 pre-determined data sizes\n",
    "random_item_pairings = []\n",
    "for data_size in data_sizes:\n",
    "    # Loop through each support to test on data\n",
    "    for support in support_thresholds:\n",
    "        data = GetSubsectionOfData(retail_data, data_size) # Get % of data\n",
    "        new_support = support * data_size # reduce the support threshold relative to reduction in data\n",
    "\n",
    "        s_t = time()    # Starting time\n",
    "        occ, freq = Apriori(data, new_support, 2)\n",
    "        f_t = time()    # Finishing time\n",
    "\n",
    "        PrintTimeInfo(\"Random Sampled Apriori\", (data_size * 100), (f_t - s_t), new_support, \"pairs\")\n",
    "        random_item_pairings.append(freq)\n",
    "        "
   ]
  },
  {
   "cell_type": "code",
   "execution_count": 5,
   "metadata": {},
   "outputs": [
    {
     "output_type": "stream",
     "name": "stdout",
     "text": [
      "Time taken to complete Apriori on 100% of data using pairs of retail data: 3.26 seconds with support: 1%\n",
      "Time taken to complete Apriori on 100% of data using pairs of retail data: 3.55 seconds with support: 2%\n",
      "Time taken to complete Apriori on 100% of data using pairs of retail data: 3.46 seconds with support: 5%\n"
     ]
    }
   ],
   "source": [
    "# Run Apriori normally on 100% of data for all 3 support thresholds\n",
    "apriori_item_pairings = []\n",
    "for support in support_thresholds:\n",
    "    s_t = time()\n",
    "    occ, freq = Apriori(data, new_support, 2)\n",
    "    f_t = time()\n",
    "    apriori_item_pairings.append(freq)\n",
    "    PrintTimeInfo(\"Apriori\", 100, (f_t - s_t), support, \"pairs\")"
   ]
  },
  {
   "cell_type": "code",
   "execution_count": 29,
   "metadata": {
    "tags": []
   },
   "outputs": [],
   "source": [
    "# Count the number of pairs that are in the random sampling but not in the actual data\n",
    "false_positives_list = np.zeros((9,1))\n",
    "for i in range(len(random_item_pairings)):\n",
    "    for j in range(len(apriori_item_pairings)):\n",
    "        for pairing in random_item_pairings[i]:\n",
    "            if pairing not in apriori_item_pairings[j]:\n",
    "                false_positives_list[i] += 1"
   ]
  },
  {
   "cell_type": "code",
   "execution_count": 59,
   "metadata": {},
   "outputs": [
    {
     "output_type": "stream",
     "name": "stdout",
     "text": [
      "False positives for original support threshold 1% is 2556 with 25% of data\nFalse positives for original support threshold 2% is 792 with 25% of data\nFalse positives for original support threshold 5% is 129 with 25% of data\nFalse positives for original support threshold 1% is 1614 with 33% of data\nFalse positives for original support threshold 2% is 462 with 33% of data\nFalse positives for original support threshold 5% is 72 with 33% of data\nFalse positives for original support threshold 1% is 393 with 65% of data\nFalse positives for original support threshold 2% is 90 with 65% of data\nFalse positives for original support threshold 5% is 0 with 65% of data\n"
     ]
    }
   ],
   "source": [
    "i = 0\n",
    "for data_size in data_sizes:\n",
    "    for support in support_thresholds:\n",
    "        print(\"False positives for original support threshold %d%% is %d with %d%% of data\" % ((support * 100), false_positives_list[i], (data_size * 100)))\n",
    "        i += 1"
   ]
  },
  {
   "cell_type": "code",
   "execution_count": null,
   "metadata": {},
   "outputs": [],
   "source": []
  }
 ]
}