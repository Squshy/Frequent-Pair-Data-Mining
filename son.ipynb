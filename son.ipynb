{
 "metadata": {
  "language_info": {
   "codemirror_mode": {
    "name": "ipython",
    "version": 3
   },
   "file_extension": ".py",
   "mimetype": "text/x-python",
   "name": "python",
   "nbconvert_exporter": "python",
   "pygments_lexer": "ipython3",
   "version": "3.7.0-final"
  },
  "orig_nbformat": 2,
  "kernelspec": {
   "name": "python3",
   "display_name": "Python 3.7.0 64-bit (conda)",
   "metadata": {
    "interpreter": {
     "hash": "cbb7e187236b00b7ded093dcc56893c8d346ec4edb708f0afe40db7bb88b5c34"
    }
   }
  }
 },
 "nbformat": 4,
 "nbformat_minor": 2,
 "cells": [
  {
   "cell_type": "code",
   "execution_count": 1,
   "metadata": {},
   "outputs": [],
   "source": [
    "import numpy as np\n",
    "import pandas as pd\n",
    "import math\n",
    "from apriori import Apriori\n",
    "from time import time\n",
    "from helper import GetItemsetFromFile, GetSubsectionOfData, SplitDataIntoChunks, PrintTimeInfo, CreatePairDataFrame"
   ]
  },
  {
   "cell_type": "code",
   "execution_count": 2,
   "metadata": {},
   "outputs": [
    {
     "output_type": "stream",
     "name": "stdout",
     "text": [
      "Time taken to read retail data: 0.23 seconds\n"
     ]
    }
   ],
   "source": [
    "# Get the retail data set\n",
    "s_t = time()\n",
    "retail_data = GetItemsetFromFile(\"retail.data\")\n",
    "f_t = time()\n",
    "print(\"Time taken to read retail data: %.2f seconds\" % (f_t - s_t))"
   ]
  },
  {
   "cell_type": "code",
   "execution_count": 3,
   "metadata": {},
   "outputs": [],
   "source": [
    "support_thresholds = [0.01, 0.02, 0.05]\n",
    "data_sizes = [0.2, 0.5]"
   ]
  },
  {
   "cell_type": "code",
   "execution_count": 49,
   "metadata": {},
   "outputs": [
    {
     "output_type": "stream",
     "name": "stdout",
     "text": [
      "2.0\nPrevious Data length:0\tIncrement Length: 88162\nLength of data: 17632\tPercent 20%\nPrevious Data length:17632\tIncrement Length: 17632\nLength of data: 17632\tPercent 40%\nPrevious Data length:17632\tIncrement Length: 35264\nLength of data: 17632\tPercent 60%\nPrevious Data length:17632\tIncrement Length: 35264\nLength of data: 17632\tPercent 80%\n35266\nPrevious Data length:17632\tIncrement Length: 35266\nLength of data: 17632\tPercent 100%\nFull data size: 88160\n\nPrevious Data length:0\tIncrement Length: 44081\nLength of data: 44081\tPercent 50%\nPrevious Data length:44081\tIncrement Length: 88162\nLength of data: 44081\tPercent 100%\nFull data size: 88162\n\n"
     ]
    }
   ],
   "source": [
    "for data_size in data_sizes:\n",
    "    prev_data = [] # initialize data to retial data\n",
    "    data = data_size        # set the data variable to the new data size\n",
    "    sizes = 0\n",
    "    remainder = 0\n",
    "    leftover = 0\n",
    "    data_increment = math.floor(len(retail_data) * data_size)\n",
    "    didnt_divide_nicely = len(retail_data) % data_size\n",
    "\n",
    "    if didnt_divide_nicely != 0.0:\n",
    "        total_subsections = (100 / (data_size*100))\n",
    "        leftover = len(retail_data) - (math.floor(len(retail_data) / total_subsections) * total_subsections)\n",
    "        print(leftover)\n",
    "    full_data = []\n",
    "    while data <= 1: # Check if the % of data is less than 100%\n",
    "        if didnt_divide_nicely != 0.0:\n",
    "            if data == 1.0:\n",
    "                inc = int((len(prev_data) + data_increment + leftover))\n",
    "                print(inc)\n",
    "            else:\n",
    "            inc = (len(prev_data) + data_increment)\n",
    "        else:\n",
    "            inc = (len(prev_data) + data_increment)\n",
    "        print(\"Previous Data length:%d\\tIncrement Length: %d\" % (len(prev_data), inc))\n",
    "        inc = (len(prev_data) + data_increment)\n",
    "        prev_data = GetSubsectionOfData(retail_data[len(prev_data):inc], 1)\n",
    "        full_data.append(prev_data)\n",
    "\n",
    "        print(\"Length of data: %d\\tPercent %d%%\" % (len(prev_data), (data * 100)))\n",
    "\n",
    "\n",
    "        data += data_size\n",
    "    print(\"Full data size: %d\\n\" % len(np.asarray(full_data).flatten()))"
   ]
  },
  {
   "cell_type": "code",
   "execution_count": null,
   "metadata": {},
   "outputs": [],
   "source": []
  }
 ]
}