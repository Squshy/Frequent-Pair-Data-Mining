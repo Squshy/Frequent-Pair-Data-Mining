{
 "metadata": {
  "language_info": {
   "codemirror_mode": {
    "name": "ipython",
    "version": 3
   },
   "file_extension": ".py",
   "mimetype": "text/x-python",
   "name": "python",
   "nbconvert_exporter": "python",
   "pygments_lexer": "ipython3",
   "version": "3.7.0-final"
  },
  "orig_nbformat": 2,
  "kernelspec": {
   "name": "python3",
   "display_name": "Python 3.7.0 64-bit (conda)",
   "metadata": {
    "interpreter": {
     "hash": "cbb7e187236b00b7ded093dcc56893c8d346ec4edb708f0afe40db7bb88b5c34"
    }
   }
  }
 },
 "nbformat": 4,
 "nbformat_minor": 2,
 "cells": [
  {
   "cell_type": "code",
   "execution_count": 1,
   "metadata": {},
   "outputs": [],
   "source": [
    "import numpy as np\n",
    "import pandas as pd\n",
    "from apriori import Apriori\n",
    "from time import time\n",
    "from helper import GetItemsetFromFile, GetSubsectionOfData, SplitDataIntoChunks, PrintTimeInfo, CreatePairDataFrame"
   ]
  },
  {
   "cell_type": "code",
   "execution_count": 2,
   "metadata": {},
   "outputs": [
    {
     "output_type": "stream",
     "name": "stdout",
     "text": [
      "Time taken to read retail data: 0.18 seconds\n"
     ]
    }
   ],
   "source": [
    "# Get the retail data set\n",
    "s_t = time()\n",
    "retail_data = GetItemsetFromFile(\"retail.data\")\n",
    "f_t = time()\n",
    "print(\"Time taken to read retail data: %.2f seconds\" % (f_t - s_t))"
   ]
  },
  {
   "cell_type": "code",
   "execution_count": 3,
   "metadata": {},
   "outputs": [],
   "source": [
    "support_thresholds = [0.01, 0.02, 0.05]\n",
    "data_sizes = [0.2, 0.5]"
   ]
  },
  {
   "cell_type": "code",
   "execution_count": 11,
   "metadata": {},
   "outputs": [
    {
     "output_type": "stream",
     "name": "stdout",
     "text": [
      "Length of data: 17632\tPercent 20%\nLength of data: 28212\tPercent 40%\nLength of data: 47960\tPercent 80%\nTotal Size of Data: 93804\nLength of data: 44081\tPercent 50%\nLength of data: 44081\tPercent 100%\nTotal Size of Data: 88162\n"
     ]
    }
   ],
   "source": [
    "for data_size in data_sizes:\n",
    "    prev_data = [] # initialize data to retial data\n",
    "    data = data_size        # set the data variable to the new data size\n",
    "    sizes = 0\n",
    "    while data <= 1: # Check if the % of data is less than 100%\n",
    "        prev_data = GetSubsectionOfData(retail_data[len(prev_data):], data)\n",
    "        sizes += len(prev_data)\n",
    "        print(\"Length of data: %d\\tPercent %d%%\" % (len(prev_data), (data * 100)))\n",
    "        data += data\n",
    "    print(\"Total Size of Data: %d\" % sizes)"
   ]
  },
  {
   "cell_type": "code",
   "execution_count": null,
   "metadata": {},
   "outputs": [],
   "source": []
  }
 ]
}