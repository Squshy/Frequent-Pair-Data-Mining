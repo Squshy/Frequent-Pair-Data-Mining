{
 "metadata": {
  "language_info": {
   "codemirror_mode": {
    "name": "ipython",
    "version": 3
   },
   "file_extension": ".py",
   "mimetype": "text/x-python",
   "name": "python",
   "nbconvert_exporter": "python",
   "pygments_lexer": "ipython3",
   "version": "3.7.0-final"
  },
  "orig_nbformat": 2,
  "kernelspec": {
   "name": "python3",
   "display_name": "Python 3.7.0 64-bit (conda)",
   "metadata": {
    "interpreter": {
     "hash": "cbb7e187236b00b7ded093dcc56893c8d346ec4edb708f0afe40db7bb88b5c34"
    }
   }
  }
 },
 "nbformat": 4,
 "nbformat_minor": 2,
 "cells": [
  {
   "cell_type": "code",
   "execution_count": 2,
   "metadata": {},
   "outputs": [],
   "source": [
    "import numpy as np\n",
    "import pandas as pd\n",
    "import math\n",
    "from apriori import Apriori\n",
    "from time import time\n",
    "from helper import GetItemsetFromFile, GetSubsectionOfData, SplitDataIntoChunks, PrintTimeInfo, CreatePairDataFrame"
   ]
  },
  {
   "cell_type": "code",
   "execution_count": 3,
   "metadata": {},
   "outputs": [
    {
     "output_type": "stream",
     "name": "stdout",
     "text": [
      "Time taken to read retail data: 0.17 seconds\n"
     ]
    }
   ],
   "source": [
    "# Get the retail data set\n",
    "s_t = time()\n",
    "retail_data = GetItemsetFromFile(\"retail.data\")\n",
    "f_t = time()\n",
    "print(\"Time taken to read retail data: %.2f seconds\" % (f_t - s_t))"
   ]
  },
  {
   "cell_type": "code",
   "execution_count": 4,
   "metadata": {},
   "outputs": [],
   "source": [
    "support = 0.05 # 5%"
   ]
  },
  {
   "cell_type": "code",
   "execution_count": 10,
   "metadata": {
    "tags": []
   },
   "outputs": [],
   "source": [
    " def SON(data_list, data_percentage, support):   \n",
    "    data_length = len(data_list)\n",
    "    data_length = math.floor(data_length * data_percentage)\n",
    "    partial_data = []\n",
    "    did_not_divide_nicely = False\n",
    "    num_iterations = int(100 / (data_percentage * 100))\n",
    "    list_of_frequent_item_lists = []\n",
    "    partials = []\n",
    "\n",
    "    # Remainder after dividing by the fraction\n",
    "    if data_length % (data_percentage * 100) != 0:\n",
    "        did_not_divide_nicely = True\n",
    "        # Left overs is the remainder after dividing\n",
    "        # In the case of 20%, if you round you get 5 data lengths of 17632\n",
    "        # 17632 * 5 = 88160\n",
    "        # Actual length of data is 88162\n",
    "        # This gets the remaining 2 rows we would have missed so we can cover the entire dataset\n",
    "        leftovers = round(data_length - (math.floor(data_length / num_iterations) * num_iterations))\n",
    "        \n",
    "    for i in range(1, num_iterations+1):\n",
    "        data_size = data_length * i\n",
    "        # if there was a remainder from division\n",
    "        if did_not_divide_nicely == True:\n",
    "            # If it is the last run of the loop\n",
    "            if i == num_iterations:\n",
    "                # Add the leftover value to the last pass to get the entire dataset\n",
    "                data_size += leftovers\n",
    "\n",
    "        partial_data = GetSubsectionOfData(data_list[data_length * (i-1):data_size], 1)\n",
    "        partials.append(partial_data)\n",
    "\n",
    "        # Support is divided by the fraction of data we look at\n",
    "        occ, freq = Apriori(partial_data, support / num_iterations, 2)\n",
    "        list_of_frequent_item_lists.append(freq)\n",
    "    return list_of_frequent_item_lists"
   ]
  },
  {
   "cell_type": "code",
   "execution_count": 11,
   "metadata": {},
   "outputs": [],
   "source": [
    "# Run SON with 20% of data chunks with 5% base support\n",
    "freq_lists_20_percent = SON(retail_data, 0.2, support)"
   ]
  },
  {
   "cell_type": "code",
   "execution_count": 15,
   "metadata": {},
   "outputs": [],
   "source": [
    "# Run SON with 50% of data chunks with 5% base support\n",
    "freq_lists_50_percent = SON(retail_data, 0.5, support)"
   ]
  },
  {
   "cell_type": "code",
   "execution_count": 7,
   "metadata": {},
   "outputs": [],
   "source": [
    "# Run Apriori at 5% support on 100% of data\n",
    "occ, freq = Apriori(retail_data, support, 2)"
   ]
  },
  {
   "cell_type": "code",
   "execution_count": 12,
   "metadata": {},
   "outputs": [],
   "source": [
    "# Find false positives in the 20% chunk size\n",
    "false_positives_20 = []\n",
    "for frequency_list in freq_lists_20_percent:\n",
    "    for item in frequency_list:\n",
    "        if item not in freq:\n",
    "            false_positives_20.append(item)"
   ]
  },
  {
   "cell_type": "code",
   "execution_count": 14,
   "metadata": {},
   "outputs": [
    {
     "output_type": "stream",
     "name": "stdout",
     "text": [
      "False positives for SON using 5% support threshold spliting the data into chunks of 20% is 358\n"
     ]
    }
   ],
   "source": [
    "print(\"False positives for SON using %d%% support threshold spliting the data into chunks of %d%% is %d\" % ( 5, 20, len(false_positives) ))"
   ]
  },
  {
   "cell_type": "code",
   "execution_count": null,
   "metadata": {},
   "outputs": [],
   "source": []
  }
 ]
}